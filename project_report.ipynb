{
 "cells": [
  {
   "cell_type": "code",
   "execution_count": 3,
   "id": "1c8bb289",
   "metadata": {},
   "outputs": [],
   "source": [
    "#math and statistics.\n",
    "from scipy import stats\n",
    "import statistics\n",
    "import math\n",
    "\n",
    "#impot matplot and seaborn for viz.\n",
    "import matplotlib.pyplot as plt\n",
    "import seaborn as sns\n",
    "\n",
    "#numpy and pandas library\n",
    "import numpy as np\n",
    "import pandas as pd\n",
    "\n",
    "#dataset library\n",
    "from pydataset import data\n",
    "import env\n",
    "import acquire\n",
    "\n",
    "\n",
    "import warnings \n",
    "warnings.filterwarnings(\"ignore\")\n",
    "\n",
    "from sklearn.tree import DecisionTreeClassifier, plot_tree, export_text\n",
    "from sklearn.model_selection import train_test_split\n",
    "from sklearn.metrics import classification_report\n",
    "from sklearn.metrics import confusion_matrix\n",
    "from sklearn.ensemble import RandomForestClassifier\n",
    "from sklearn.neighbors import KNeighborsClassifier\n",
    "from sklearn.linear_model import LogisticRegression\n",
    "from sklearn.metrics import recall_score, precision_score, f1_score, accuracy_score\n",
    "from sklearn.tree import export_graphviz"
   ]
  },
  {
   "cell_type": "markdown",
   "id": "afde7d20",
   "metadata": {},
   "source": [
    "# Executive Summary"
   ]
  },
  {
   "cell_type": "markdown",
   "id": "c3832693",
   "metadata": {},
   "source": [
    "## Goals\n",
    "The goal of this report is to reduce churn in Telco. This project aims to discover features that may be related to churn, and use these discoveries to create a machine learning classification model that can predict if a customer is about to churn or not."
   ]
  },
  {
   "cell_type": "markdown",
   "id": "75c860d5",
   "metadata": {},
   "source": [
    "## Project Description\n",
    "Reducing churn is important to the company because lost customers means lost revenue. The cost of acquiring a new customer is much higher than maintaining a customer so this project will attempt to identify strategies that reduce customer churn. In the process, we are also looking for ways to improve customer satisfaction to increase the company's rate of growth."
   ]
  },
  {
   "cell_type": "markdown",
   "id": "eec6bd5b",
   "metadata": {},
   "source": [
    "# Planning\n",
    "\n",
    "1.Setup Github repo. \n",
    "\n",
    "2.Accquire the Data.\n",
    "\n",
    "3.Clean the Data, import the data cleaning fuction. \n",
    "\n",
    "4.Explore the Train Dataset.\n",
    "\n",
    "5.Train and Evalutate models.\n",
    "\n",
    "6.Create a csv file with predictions. \n",
    "\n",
    "7.Report conclusions and summaries."
   ]
  },
  {
   "cell_type": "markdown",
   "id": "eb7029ad",
   "metadata": {},
   "source": [
    "# Accquire the Data"
   ]
  },
  {
   "cell_type": "code",
   "execution_count": 4,
   "id": "6712b869",
   "metadata": {},
   "outputs": [
    {
     "name": "stdout",
     "output_type": "stream",
     "text": [
      "Using cached csv\n"
     ]
    }
   ],
   "source": [
    "df = acquire.get_telco_data()"
   ]
  },
  {
   "cell_type": "code",
   "execution_count": 5,
   "id": "c915e86d",
   "metadata": {},
   "outputs": [
    {
     "data": {
      "text/html": [
       "<div>\n",
       "<style scoped>\n",
       "    .dataframe tbody tr th:only-of-type {\n",
       "        vertical-align: middle;\n",
       "    }\n",
       "\n",
       "    .dataframe tbody tr th {\n",
       "        vertical-align: top;\n",
       "    }\n",
       "\n",
       "    .dataframe thead th {\n",
       "        text-align: right;\n",
       "    }\n",
       "</style>\n",
       "<table border=\"1\" class=\"dataframe\">\n",
       "  <thead>\n",
       "    <tr style=\"text-align: right;\">\n",
       "      <th></th>\n",
       "      <th>payment_type_id</th>\n",
       "      <th>contract_type_id</th>\n",
       "      <th>internet_service_type_id</th>\n",
       "      <th>customer_id</th>\n",
       "      <th>gender</th>\n",
       "      <th>senior_citizen</th>\n",
       "      <th>partner</th>\n",
       "      <th>dependents</th>\n",
       "      <th>tenure</th>\n",
       "      <th>phone_service</th>\n",
       "      <th>...</th>\n",
       "      <th>tech_support</th>\n",
       "      <th>streaming_tv</th>\n",
       "      <th>streaming_movies</th>\n",
       "      <th>paperless_billing</th>\n",
       "      <th>monthly_charges</th>\n",
       "      <th>total_charges</th>\n",
       "      <th>churn</th>\n",
       "      <th>internet_service_type</th>\n",
       "      <th>contract_type</th>\n",
       "      <th>payment_type</th>\n",
       "    </tr>\n",
       "  </thead>\n",
       "  <tbody>\n",
       "    <tr>\n",
       "      <th>0</th>\n",
       "      <td>2</td>\n",
       "      <td>2</td>\n",
       "      <td>1</td>\n",
       "      <td>0002-ORFBO</td>\n",
       "      <td>Female</td>\n",
       "      <td>0</td>\n",
       "      <td>Yes</td>\n",
       "      <td>Yes</td>\n",
       "      <td>9</td>\n",
       "      <td>Yes</td>\n",
       "      <td>...</td>\n",
       "      <td>Yes</td>\n",
       "      <td>Yes</td>\n",
       "      <td>No</td>\n",
       "      <td>Yes</td>\n",
       "      <td>65.6</td>\n",
       "      <td>593.3</td>\n",
       "      <td>No</td>\n",
       "      <td>DSL</td>\n",
       "      <td>One year</td>\n",
       "      <td>Mailed check</td>\n",
       "    </tr>\n",
       "    <tr>\n",
       "      <th>1</th>\n",
       "      <td>2</td>\n",
       "      <td>1</td>\n",
       "      <td>1</td>\n",
       "      <td>0003-MKNFE</td>\n",
       "      <td>Male</td>\n",
       "      <td>0</td>\n",
       "      <td>No</td>\n",
       "      <td>No</td>\n",
       "      <td>9</td>\n",
       "      <td>Yes</td>\n",
       "      <td>...</td>\n",
       "      <td>No</td>\n",
       "      <td>No</td>\n",
       "      <td>Yes</td>\n",
       "      <td>No</td>\n",
       "      <td>59.9</td>\n",
       "      <td>542.4</td>\n",
       "      <td>No</td>\n",
       "      <td>DSL</td>\n",
       "      <td>Month-to-month</td>\n",
       "      <td>Mailed check</td>\n",
       "    </tr>\n",
       "  </tbody>\n",
       "</table>\n",
       "<p>2 rows × 24 columns</p>\n",
       "</div>"
      ],
      "text/plain": [
       "   payment_type_id  contract_type_id  internet_service_type_id customer_id  \\\n",
       "0                2                 2                         1  0002-ORFBO   \n",
       "1                2                 1                         1  0003-MKNFE   \n",
       "\n",
       "   gender  senior_citizen partner dependents  tenure phone_service  ...  \\\n",
       "0  Female               0     Yes        Yes       9           Yes  ...   \n",
       "1    Male               0      No         No       9           Yes  ...   \n",
       "\n",
       "  tech_support streaming_tv streaming_movies paperless_billing  \\\n",
       "0          Yes          Yes               No               Yes   \n",
       "1           No           No              Yes                No   \n",
       "\n",
       "  monthly_charges total_charges churn internet_service_type   contract_type  \\\n",
       "0            65.6         593.3    No                   DSL        One year   \n",
       "1            59.9         542.4    No                   DSL  Month-to-month   \n",
       "\n",
       "   payment_type  \n",
       "0  Mailed check  \n",
       "1  Mailed check  \n",
       "\n",
       "[2 rows x 24 columns]"
      ]
     },
     "execution_count": 5,
     "metadata": {},
     "output_type": "execute_result"
    }
   ],
   "source": [
    "df.head(2)"
   ]
  },
  {
   "cell_type": "code",
   "execution_count": 6,
   "id": "2c48e0af",
   "metadata": {},
   "outputs": [
    {
     "name": "stdout",
     "output_type": "stream",
     "text": [
      "<class 'pandas.core.frame.DataFrame'>\n",
      "RangeIndex: 7043 entries, 0 to 7042\n",
      "Data columns (total 24 columns):\n",
      " #   Column                    Non-Null Count  Dtype  \n",
      "---  ------                    --------------  -----  \n",
      " 0   payment_type_id           7043 non-null   int64  \n",
      " 1   contract_type_id          7043 non-null   int64  \n",
      " 2   internet_service_type_id  7043 non-null   int64  \n",
      " 3   customer_id               7043 non-null   object \n",
      " 4   gender                    7043 non-null   object \n",
      " 5   senior_citizen            7043 non-null   int64  \n",
      " 6   partner                   7043 non-null   object \n",
      " 7   dependents                7043 non-null   object \n",
      " 8   tenure                    7043 non-null   int64  \n",
      " 9   phone_service             7043 non-null   object \n",
      " 10  multiple_lines            7043 non-null   object \n",
      " 11  online_security           7043 non-null   object \n",
      " 12  online_backup             7043 non-null   object \n",
      " 13  device_protection         7043 non-null   object \n",
      " 14  tech_support              7043 non-null   object \n",
      " 15  streaming_tv              7043 non-null   object \n",
      " 16  streaming_movies          7043 non-null   object \n",
      " 17  paperless_billing         7043 non-null   object \n",
      " 18  monthly_charges           7043 non-null   float64\n",
      " 19  total_charges             7043 non-null   object \n",
      " 20  churn                     7043 non-null   object \n",
      " 21  internet_service_type     7043 non-null   object \n",
      " 22  contract_type             7043 non-null   object \n",
      " 23  payment_type              7043 non-null   object \n",
      "dtypes: float64(1), int64(5), object(18)\n",
      "memory usage: 1.3+ MB\n"
     ]
    }
   ],
   "source": [
    "df.info()\n",
    "\n",
    "# View total number of columns, data types. \n",
    "# Observe original data."
   ]
  },
  {
   "cell_type": "code",
   "execution_count": 7,
   "id": "bc06494b",
   "metadata": {},
   "outputs": [
    {
     "data": {
      "text/html": [
       "<div>\n",
       "<style scoped>\n",
       "    .dataframe tbody tr th:only-of-type {\n",
       "        vertical-align: middle;\n",
       "    }\n",
       "\n",
       "    .dataframe tbody tr th {\n",
       "        vertical-align: top;\n",
       "    }\n",
       "\n",
       "    .dataframe thead th {\n",
       "        text-align: right;\n",
       "    }\n",
       "</style>\n",
       "<table border=\"1\" class=\"dataframe\">\n",
       "  <thead>\n",
       "    <tr style=\"text-align: right;\">\n",
       "      <th></th>\n",
       "      <th>payment_type_id</th>\n",
       "      <th>contract_type_id</th>\n",
       "      <th>internet_service_type_id</th>\n",
       "      <th>senior_citizen</th>\n",
       "      <th>tenure</th>\n",
       "      <th>monthly_charges</th>\n",
       "    </tr>\n",
       "  </thead>\n",
       "  <tbody>\n",
       "    <tr>\n",
       "      <th>count</th>\n",
       "      <td>7043.000000</td>\n",
       "      <td>7043.000000</td>\n",
       "      <td>7043.000000</td>\n",
       "      <td>7043.000000</td>\n",
       "      <td>7043.000000</td>\n",
       "      <td>7043.000000</td>\n",
       "    </tr>\n",
       "    <tr>\n",
       "      <th>mean</th>\n",
       "      <td>2.315633</td>\n",
       "      <td>1.690473</td>\n",
       "      <td>1.872923</td>\n",
       "      <td>0.162147</td>\n",
       "      <td>32.371149</td>\n",
       "      <td>64.761692</td>\n",
       "    </tr>\n",
       "    <tr>\n",
       "      <th>std</th>\n",
       "      <td>1.148907</td>\n",
       "      <td>0.833755</td>\n",
       "      <td>0.737796</td>\n",
       "      <td>0.368612</td>\n",
       "      <td>24.559481</td>\n",
       "      <td>30.090047</td>\n",
       "    </tr>\n",
       "    <tr>\n",
       "      <th>min</th>\n",
       "      <td>1.000000</td>\n",
       "      <td>1.000000</td>\n",
       "      <td>1.000000</td>\n",
       "      <td>0.000000</td>\n",
       "      <td>0.000000</td>\n",
       "      <td>18.250000</td>\n",
       "    </tr>\n",
       "    <tr>\n",
       "      <th>25%</th>\n",
       "      <td>1.000000</td>\n",
       "      <td>1.000000</td>\n",
       "      <td>1.000000</td>\n",
       "      <td>0.000000</td>\n",
       "      <td>9.000000</td>\n",
       "      <td>35.500000</td>\n",
       "    </tr>\n",
       "    <tr>\n",
       "      <th>50%</th>\n",
       "      <td>2.000000</td>\n",
       "      <td>1.000000</td>\n",
       "      <td>2.000000</td>\n",
       "      <td>0.000000</td>\n",
       "      <td>29.000000</td>\n",
       "      <td>70.350000</td>\n",
       "    </tr>\n",
       "    <tr>\n",
       "      <th>75%</th>\n",
       "      <td>3.000000</td>\n",
       "      <td>2.000000</td>\n",
       "      <td>2.000000</td>\n",
       "      <td>0.000000</td>\n",
       "      <td>55.000000</td>\n",
       "      <td>89.850000</td>\n",
       "    </tr>\n",
       "    <tr>\n",
       "      <th>max</th>\n",
       "      <td>4.000000</td>\n",
       "      <td>3.000000</td>\n",
       "      <td>3.000000</td>\n",
       "      <td>1.000000</td>\n",
       "      <td>72.000000</td>\n",
       "      <td>118.750000</td>\n",
       "    </tr>\n",
       "  </tbody>\n",
       "</table>\n",
       "</div>"
      ],
      "text/plain": [
       "       payment_type_id  contract_type_id  internet_service_type_id  \\\n",
       "count      7043.000000       7043.000000               7043.000000   \n",
       "mean          2.315633          1.690473                  1.872923   \n",
       "std           1.148907          0.833755                  0.737796   \n",
       "min           1.000000          1.000000                  1.000000   \n",
       "25%           1.000000          1.000000                  1.000000   \n",
       "50%           2.000000          1.000000                  2.000000   \n",
       "75%           3.000000          2.000000                  2.000000   \n",
       "max           4.000000          3.000000                  3.000000   \n",
       "\n",
       "       senior_citizen       tenure  monthly_charges  \n",
       "count     7043.000000  7043.000000      7043.000000  \n",
       "mean         0.162147    32.371149        64.761692  \n",
       "std          0.368612    24.559481        30.090047  \n",
       "min          0.000000     0.000000        18.250000  \n",
       "25%          0.000000     9.000000        35.500000  \n",
       "50%          0.000000    29.000000        70.350000  \n",
       "75%          0.000000    55.000000        89.850000  \n",
       "max          1.000000    72.000000       118.750000  "
      ]
     },
     "execution_count": 7,
     "metadata": {},
     "output_type": "execute_result"
    }
   ],
   "source": [
    "df.describe()"
   ]
  },
  {
   "cell_type": "code",
   "execution_count": 8,
   "id": "04622721",
   "metadata": {},
   "outputs": [],
   "source": [
    "df['churn_int'] = df[['churn']].replace({\"Yes\":1, \"No\":0})"
   ]
  },
  {
   "cell_type": "code",
   "execution_count": 9,
   "id": "e3fbbf88",
   "metadata": {},
   "outputs": [
    {
     "data": {
      "text/plain": [
       "No     5174\n",
       "Yes    1869\n",
       "Name: churn, dtype: int64"
      ]
     },
     "execution_count": 9,
     "metadata": {},
     "output_type": "execute_result"
    }
   ],
   "source": [
    "df.churn.value_counts()"
   ]
  },
  {
   "cell_type": "code",
   "execution_count": 10,
   "id": "7ce7cbee",
   "metadata": {},
   "outputs": [
    {
     "data": {
      "image/png": "[encoded data removed]",
      "text/plain": [
       "<Figure size 432x288 with 1 Axes>"
      ]
     },
     "metadata": {},
     "output_type": "display_data"
    }
   ],
   "source": [
    "data = [(df.churn.value_counts())[1], (df.churn.value_counts())[0]]\n",
    "labels = ['Churned', 'Not Churned']\n",
    "colors = sns.color_palette('Paired')\n",
    "explode = [0.3,0.02]\n",
    "plt.pie(data, labels=labels,colors = colors, autopct = '%0.0f%%',\n",
    "        textprops = {'color': 'Black','fontsize':16},explode = explode)\n",
    "figsize=(10,10)\n",
    "plt.title(\"The % of customer who churned\")\n",
    "plt.show()"
   ]
  },
  {
   "cell_type": "markdown",
   "id": "53959a72",
   "metadata": {},
   "source": [
    "# Cleaning the Data"
   ]
  },
  {
   "cell_type": "code",
   "execution_count": 11,
   "id": "6f283a2d",
   "metadata": {},
   "outputs": [],
   "source": [
    " # this is the file with all of the functions used to clean and split the raw Telco data\n",
    "clean_df = acquire.prep_telco_data(df)\n",
    "# 1. Drop duplicate columns\n",
    "# columns=['payment_type_id', 'internet_service_type_id', 'contract_type_id', 'customer_id']\n",
    "\n",
    "# 2. Drop null values stored as whitespace.\n",
    "\n",
    "# 3. Convert binary categorical variables to numeric\n",
    "\n",
    "# 4. Get dummies for non-binary categorical variables"
   ]
  },
  {
   "cell_type": "code",
   "execution_count": 12,
   "id": "4cd2754d",
   "metadata": {},
   "outputs": [
    {
     "name": "stdout",
     "output_type": "stream",
     "text": [
      "<class 'pandas.core.frame.DataFrame'>\n",
      "Int64Index: 7032 entries, 0 to 7042\n",
      "Data columns (total 48 columns):\n",
      " #   Column                                 Non-Null Count  Dtype  \n",
      "---  ------                                 --------------  -----  \n",
      " 0   gender                                 7032 non-null   object \n",
      " 1   senior_citizen                         7032 non-null   int64  \n",
      " 2   partner                                7032 non-null   object \n",
      " 3   dependents                             7032 non-null   object \n",
      " 4   tenure                                 7032 non-null   int64  \n",
      " 5   phone_service                          7032 non-null   object \n",
      " 6   multiple_lines                         7032 non-null   object \n",
      " 7   online_security                        7032 non-null   object \n",
      " 8   online_backup                          7032 non-null   object \n",
      " 9   device_protection                      7032 non-null   object \n",
      " 10  tech_support                           7032 non-null   object \n",
      " 11  streaming_tv                           7032 non-null   object \n",
      " 12  streaming_movies                       7032 non-null   object \n",
      " 13  paperless_billing                      7032 non-null   object \n",
      " 14  monthly_charges                        7032 non-null   float64\n",
      " 15  total_charges                          7032 non-null   float64\n",
      " 16  churn                                  7032 non-null   object \n",
      " 17  internet_service_type                  7032 non-null   object \n",
      " 18  contract_type                          7032 non-null   object \n",
      " 19  payment_type                           7032 non-null   object \n",
      " 20  churn_int                              7032 non-null   int64  \n",
      " 21  gender_encoded                         7032 non-null   int64  \n",
      " 22  partner_encoded                        7032 non-null   int64  \n",
      " 23  dependents_encoded                     7032 non-null   int64  \n",
      " 24  phone_service_encoded                  7032 non-null   int64  \n",
      " 25  paperless_billing_encoded              7032 non-null   int64  \n",
      " 26  churn_encoded                          7032 non-null   int64  \n",
      " 27  multiple_lines_No phone service        7032 non-null   uint8  \n",
      " 28  multiple_lines_Yes                     7032 non-null   uint8  \n",
      " 29  online_security_No internet service    7032 non-null   uint8  \n",
      " 30  online_security_Yes                    7032 non-null   uint8  \n",
      " 31  online_backup_No internet service      7032 non-null   uint8  \n",
      " 32  online_backup_Yes                      7032 non-null   uint8  \n",
      " 33  device_protection_No internet service  7032 non-null   uint8  \n",
      " 34  device_protection_Yes                  7032 non-null   uint8  \n",
      " 35  tech_support_No internet service       7032 non-null   uint8  \n",
      " 36  tech_support_Yes                       7032 non-null   uint8  \n",
      " 37  streaming_tv_No internet service       7032 non-null   uint8  \n",
      " 38  streaming_tv_Yes                       7032 non-null   uint8  \n",
      " 39  streaming_movies_No internet service   7032 non-null   uint8  \n",
      " 40  streaming_movies_Yes                   7032 non-null   uint8  \n",
      " 41  contract_type_One year                 7032 non-null   uint8  \n",
      " 42  contract_type_Two year                 7032 non-null   uint8  \n",
      " 43  internet_service_type_Fiber optic      7032 non-null   uint8  \n",
      " 44  internet_service_type_None             7032 non-null   uint8  \n",
      " 45  payment_type_Credit card (automatic)   7032 non-null   uint8  \n",
      " 46  payment_type_Electronic check          7032 non-null   uint8  \n",
      " 47  payment_type_Mailed check              7032 non-null   uint8  \n",
      "dtypes: float64(2), int64(9), object(16), uint8(21)\n",
      "memory usage: 1.6+ MB\n"
     ]
    }
   ],
   "source": [
    "clean_df.info()"
   ]
  },
  {
   "cell_type": "markdown",
   "id": "08d87279",
   "metadata": {},
   "source": [
    "## Explore the Train Dataset"
   ]
  },
  {
   "cell_type": "code",
   "execution_count": 13,
   "id": "573a6e32",
   "metadata": {},
   "outputs": [],
   "source": [
    "# split on telco data, 80/20 train test split. \n",
    "train, test = train_test_split(clean_df, train_size=0.8, random_state=1349, stratify=clean_df.churn)\n",
    "# 70/30 train validate split\n",
    "train, validate = train_test_split(train, train_size=0.7, random_state=1349, stratify=train.churn)"
   ]
  },
  {
   "cell_type": "code",
   "execution_count": 14,
   "id": "817b4be2",
   "metadata": {},
   "outputs": [
    {
     "name": "stdout",
     "output_type": "stream",
     "text": [
      "(3937, 48)\n",
      "(1407, 48)\n",
      "(1688, 48)\n"
     ]
    }
   ],
   "source": [
    "print(train.shape)\n",
    "print(test.shape)\n",
    "print(validate.shape)"
   ]
  },
  {
   "cell_type": "code",
   "execution_count": 15,
   "id": "ef258a4a",
   "metadata": {},
   "outputs": [],
   "source": [
    "# Assuming a confidence level of 95% \n",
    "alpha = 0.05"
   ]
  },
  {
   "cell_type": "markdown",
   "id": "f1d42027",
   "metadata": {},
   "source": [
    "## Initial Questions\n",
    "\n",
    "1. Are customers who pay manually more likely to churn than customers who pay automatically?\n",
    "***\n",
    "2. Are customers with Fiber internet has different churn rate compare to customers with DSL?\n",
    "***\n",
    "3. Do customers who churn have a higher average monthly spend than those who don't?\n",
    "***\n",
    "4. Are customer with Fiber internet has higher monthly charges than customers with DSL? "
   ]
  },
  {
   "cell_type": "markdown",
   "id": "23d76e75",
   "metadata": {},
   "source": [
    "### 1. Are customers who pay manually more likely to churn than customers who pay automatically?"
   ]
  },
  {
   "cell_type": "code",
   "execution_count": 16,
   "id": "de43e369",
   "metadata": {},
   "outputs": [],
   "source": [
    "#H0: Churn rate: customers who pay manually  <= the churn customers who pay automatically\n",
    "#H1: Churn rate: customers who pay manually > customers who pay automatically"
   ]
  },
  {
   "cell_type": "code",
   "execution_count": 17,
   "id": "5da9e6e4",
   "metadata": {},
   "outputs": [
    {
     "data": {
      "text/html": [
       "<div>\n",
       "<style scoped>\n",
       "    .dataframe tbody tr th:only-of-type {\n",
       "        vertical-align: middle;\n",
       "    }\n",
       "\n",
       "    .dataframe tbody tr th {\n",
       "        vertical-align: top;\n",
       "    }\n",
       "\n",
       "    .dataframe thead th {\n",
       "        text-align: right;\n",
       "    }\n",
       "</style>\n",
       "<table border=\"1\" class=\"dataframe\">\n",
       "  <thead>\n",
       "    <tr style=\"text-align: right;\">\n",
       "      <th>churn</th>\n",
       "      <th>No</th>\n",
       "      <th>Yes</th>\n",
       "    </tr>\n",
       "    <tr>\n",
       "      <th>payment_type</th>\n",
       "      <th></th>\n",
       "      <th></th>\n",
       "    </tr>\n",
       "  </thead>\n",
       "  <tbody>\n",
       "    <tr>\n",
       "      <th>Bank transfer (automatic)</th>\n",
       "      <td>711</td>\n",
       "      <td>148</td>\n",
       "    </tr>\n",
       "    <tr>\n",
       "      <th>Credit card (automatic)</th>\n",
       "      <td>727</td>\n",
       "      <td>131</td>\n",
       "    </tr>\n",
       "    <tr>\n",
       "      <th>Electronic check</th>\n",
       "      <td>706</td>\n",
       "      <td>591</td>\n",
       "    </tr>\n",
       "    <tr>\n",
       "      <th>Mailed check</th>\n",
       "      <td>747</td>\n",
       "      <td>176</td>\n",
       "    </tr>\n",
       "  </tbody>\n",
       "</table>\n",
       "</div>"
      ],
      "text/plain": [
       "churn                       No  Yes\n",
       "payment_type                       \n",
       "Bank transfer (automatic)  711  148\n",
       "Credit card (automatic)    727  131\n",
       "Electronic check           706  591\n",
       "Mailed check               747  176"
      ]
     },
     "execution_count": 17,
     "metadata": {},
     "output_type": "execute_result"
    }
   ],
   "source": [
    "pd.crosstab(train.payment_type, train.churn)\n",
    "#Are there any abnormal numbers? "
   ]
  },
  {
   "cell_type": "code",
   "execution_count": 63,
   "id": "2e52f8ea",
   "metadata": {},
   "outputs": [],
   "source": [
    "train['autopay'] = pd.DataFrame(train['payment_type'].str.contains('auto'))\n",
    "train['manual']  = pd.DataFrame(train['payment_type'].str.contains('check'))"
   ]
  },
  {
   "cell_type": "code",
   "execution_count": 64,
   "id": "220d6ccc",
   "metadata": {},
   "outputs": [
    {
     "data": {
      "image/png": "[encoded data removed]",
      "text/plain": [
       "<Figure size 432x288 with 1 Axes>"
      ]
     },
     "metadata": {},
     "output_type": "display_data"
    }
   ],
   "source": [
    "data = [(autopay_churn.value_counts())[1], (autopay_churn.value_counts())[0]]\n",
    "labels = ['Churned', 'Not Churned']\n",
    "colors = sns.color_palette('Paired')\n",
    "explode = [0.3,0.02]\n",
    "plt.pie(data, labels=labels,colors = colors, autopct = '%0.0f%%',\n",
    "        textprops = {'color': 'Black','fontsize':16},explode = explode)\n",
    "figsize=(10,10)\n",
    "plt.title(\"Autopay The % of customer who churned\")\n",
    "plt.show()"
   ]
  },
  {
   "cell_type": "code",
   "execution_count": 65,
   "id": "38fbb7f8",
   "metadata": {},
   "outputs": [
    {
     "data": {
      "image/png": "[encoded data removed]",
      "text/plain": [
       "<Figure size 432x288 with 1 Axes>"
      ]
     },
     "metadata": {},
     "output_type": "display_data"
    }
   ],
   "source": [
    "data = [(manual_churn.value_counts())[1], (manual_churn.value_counts())[0]]\n",
    "labels = ['Churned', 'Not Churned']\n",
    "colors = sns.color_palette('Paired')\n",
    "explode = [0.3,0.02]\n",
    "plt.pie(data, labels=labels,colors = colors, autopct = '%0.0f%%',\n",
    "        textprops = {'color': 'Black','fontsize':10},explode = explode)\n",
    "figsize=(10,10)\n",
    "plt.title(\"Manual payment type The % of customer who churned\")\n",
    "plt.show()"
   ]
  },
  {
   "cell_type": "code",
   "execution_count": 21,
   "id": "bb5eb5cf",
   "metadata": {},
   "outputs": [
    {
     "data": {
      "text/plain": [
       "(13.169448889001739, 4.302822709861193e-39)"
      ]
     },
     "execution_count": 21,
     "metadata": {},
     "output_type": "execute_result"
    }
   ],
   "source": [
    "autopay_churn = train[train['autopay']].churn_encoded\n",
    "\n",
    "manual_churn = train[train['manual']].churn_encoded\n",
    "\n",
    "t, p = stats.ttest_ind(manual_churn, autopay_churn)\n",
    "t, p/2"
   ]
  },
  {
   "cell_type": "code",
   "execution_count": 22,
   "id": "7dbe4e29",
   "metadata": {},
   "outputs": [
    {
     "name": "stdout",
     "output_type": "stream",
     "text": [
      "We reject the null hypothesis that the churn rate of customers who pay manually  <=  churn rate of customers who pay automatically\n"
     ]
    }
   ],
   "source": [
    "if (p/2 < alpha) & (t > 0):\n",
    "    print(\"We reject the null hypothesis that the churn rate of customers who pay manually  <=  churn rate of customers who pay automatically\")\n",
    "else:\n",
    "    print(\"We fail to reject the null hypothesis\")"
   ]
  },
  {
   "cell_type": "markdown",
   "id": "99fa2cdf",
   "metadata": {},
   "source": [
    "\n",
    "### 2. Are customers with Fiber internet has different churn rate compare to customers with DSL?\n"
   ]
  },
  {
   "cell_type": "code",
   "execution_count": 23,
   "id": "d8d74daf",
   "metadata": {},
   "outputs": [
    {
     "data": {
      "text/html": [
       "<div>\n",
       "<style scoped>\n",
       "    .dataframe tbody tr th:only-of-type {\n",
       "        vertical-align: middle;\n",
       "    }\n",
       "\n",
       "    .dataframe tbody tr th {\n",
       "        vertical-align: top;\n",
       "    }\n",
       "\n",
       "    .dataframe thead th {\n",
       "        text-align: right;\n",
       "    }\n",
       "</style>\n",
       "<table border=\"1\" class=\"dataframe\">\n",
       "  <thead>\n",
       "    <tr style=\"text-align: right;\">\n",
       "      <th>churn</th>\n",
       "      <th>No</th>\n",
       "      <th>Yes</th>\n",
       "    </tr>\n",
       "    <tr>\n",
       "      <th>internet_service_type</th>\n",
       "      <th></th>\n",
       "      <th></th>\n",
       "    </tr>\n",
       "  </thead>\n",
       "  <tbody>\n",
       "    <tr>\n",
       "      <th>DSL</th>\n",
       "      <td>1114</td>\n",
       "      <td>262</td>\n",
       "    </tr>\n",
       "    <tr>\n",
       "      <th>Fiber optic</th>\n",
       "      <td>1007</td>\n",
       "      <td>724</td>\n",
       "    </tr>\n",
       "    <tr>\n",
       "      <th>None</th>\n",
       "      <td>770</td>\n",
       "      <td>60</td>\n",
       "    </tr>\n",
       "  </tbody>\n",
       "</table>\n",
       "</div>"
      ],
      "text/plain": [
       "churn                    No  Yes\n",
       "internet_service_type           \n",
       "DSL                    1114  262\n",
       "Fiber optic            1007  724\n",
       "None                    770   60"
      ]
     },
     "execution_count": 23,
     "metadata": {},
     "output_type": "execute_result"
    }
   ],
   "source": [
    "# How many customers are using our internet service? Is there a service type\n",
    "# more likely to churn than another? \n",
    "pd.crosstab(train.internet_service_type, train.churn)"
   ]
  },
  {
   "cell_type": "code",
   "execution_count": 24,
   "id": "7d02704b",
   "metadata": {},
   "outputs": [
    {
     "data": {
      "text/plain": [
       "Text(0.5, 1.0, 'Internet service type vs customer count')"
      ]
     },
     "execution_count": 24,
     "metadata": {},
     "output_type": "execute_result"
    },
    {
     "data": {
      "image/png": "[encoded data removed]",
      "text/plain": [
       "<Figure size 432x288 with 1 Axes>"
      ]
     },
     "metadata": {
      "needs_background": "light"
     },
     "output_type": "display_data"
    }
   ],
   "source": [
    "sns.set_palette(sns.color_palette(\"Paired\"))\n",
    "sns.histplot(data=train, x=\"internet_service_type\")\n",
    "plt.title(\"Internet service type vs customer count\")"
   ]
  },
  {
   "cell_type": "code",
   "execution_count": 25,
   "id": "97edf77b",
   "metadata": {},
   "outputs": [
    {
     "data": {
      "text/plain": [
       "Text(0.5, 1.0, 'Fiber optic customers are more likely to churn')"
      ]
     },
     "execution_count": 25,
     "metadata": {},
     "output_type": "execute_result"
    },
    {
     "data": {
      "image/png": "[encoded data removed]",
      "text/plain": [
       "<Figure size 432x288 with 1 Axes>"
      ]
     },
     "metadata": {
      "needs_background": "light"
     },
     "output_type": "display_data"
    }
   ],
   "source": [
    "sns.barplot(data=train, x=\"internet_service_type\", y=\"churn_encoded\")\n",
    "sns.set_palette(sns.color_palette(\"Paired\"))\n",
    "plt.title(\"Fiber optic customers are more likely to churn\")"
   ]
  },
  {
   "cell_type": "code",
   "execution_count": 26,
   "id": "263e9e32",
   "metadata": {},
   "outputs": [],
   "source": [
    "#H0: DSL churn rate == Fiber internet churn rate\n",
    "# The churn rate of customers who use DSL == the churn rate of customer who use fiber. \n",
    "\n",
    "#H1: DSL churn rate != Fiber internet churn rate  DSL churn rate"
   ]
  },
  {
   "cell_type": "code",
   "execution_count": 27,
   "id": "e22d1275",
   "metadata": {},
   "outputs": [],
   "source": [
    "# To get two separate subsets. \n",
    "dsl_churn = train[train.internet_service_type == 'DSL'].churn_encoded\n",
    "fiber_churn = train[train.internet_service_type == 'Fiber optic'].churn_encoded"
   ]
  },
  {
   "cell_type": "code",
   "execution_count": 28,
   "id": "ae022681",
   "metadata": {},
   "outputs": [
    {
     "data": {
      "text/plain": [
       "(13.968838676133931, 4.723757615226429e-43)"
      ]
     },
     "execution_count": 28,
     "metadata": {},
     "output_type": "execute_result"
    }
   ],
   "source": [
    "# Perform a t test becuase we are comparsing two means\n",
    "# The churn rate for customer who using DSL vs the The churn rate for customer who using Fiber.\n",
    "t, p = stats.ttest_ind(fiber_churn, dsl_churn)\n",
    "t, p"
   ]
  },
  {
   "cell_type": "code",
   "execution_count": 29,
   "id": "bc117d8f",
   "metadata": {},
   "outputs": [
    {
     "name": "stdout",
     "output_type": "stream",
     "text": [
      "We reject the null hypothesis that DSL churn rate == Fiber internet churn rate\n"
     ]
    }
   ],
   "source": [
    "if (p < alpha) & (t > 0):\n",
    "    print(\"We reject the null hypothesis that DSL churn rate == Fiber internet churn rate\")\n",
    "else:\n",
    "    print(\"We fail to reject the null hypothesis\")"
   ]
  },
  {
   "cell_type": "code",
   "execution_count": 30,
   "id": "2d5e1020",
   "metadata": {},
   "outputs": [
    {
     "data": {
      "image/png": "[encoded data removed]",
      "text/plain": [
       "<Figure size 432x288 with 1 Axes>"
      ]
     },
     "metadata": {},
     "output_type": "display_data"
    }
   ],
   "source": [
    "data = [(fiber_churn.value_counts())[1], (fiber_churn.value_counts())[0]]\n",
    "labels = ['Churned', 'Not Churned']\n",
    "colors = sns.color_palette('Paired')\n",
    "explode = [0.15,0.02]\n",
    "plt.pie(data, labels=labels,colors = colors, autopct = '%0.0f%%',\n",
    "        textprops = {'color': 'Black','fontsize':10},explode = explode)\n",
    "figsize=(10,10)\n",
    "plt.title(\"Fiber Optic Internet The % of customer who churned\")\n",
    "plt.show()"
   ]
  },
  {
   "cell_type": "code",
   "execution_count": 31,
   "id": "324e6614",
   "metadata": {},
   "outputs": [
    {
     "data": {
      "image/png": "[encoded data removed]",
      "text/plain": [
       "<Figure size 432x288 with 1 Axes>"
      ]
     },
     "metadata": {},
     "output_type": "display_data"
    }
   ],
   "source": [
    "data = [(dsl_churn.value_counts())[1], (dsl_churn.value_counts())[0]]\n",
    "labels = ['Churned', 'Not Churned']\n",
    "colors = sns.color_palette('Paired')\n",
    "explode = [0.3,0.02]\n",
    "plt.pie(data, labels=labels,colors = colors, autopct = '%0.0f%%',\n",
    "        textprops = {'color': 'Black','fontsize':10},explode = explode)\n",
    "figsize=(10,10)\n",
    "plt.title(\"DSL internet service The % of customer who churned\")\n",
    "plt.show()"
   ]
  },
  {
   "cell_type": "markdown",
   "id": "42325153",
   "metadata": {},
   "source": [
    "### 3. Are there any relationships between monthly charges and churn rate? "
   ]
  },
  {
   "cell_type": "code",
   "execution_count": 32,
   "id": "ce92bab0",
   "metadata": {},
   "outputs": [
    {
     "data": {
      "text/plain": [
       "count    3937.000000\n",
       "mean       64.709398\n",
       "std        29.925892\n",
       "min        18.250000\n",
       "25%        38.500000\n",
       "50%        70.150000\n",
       "75%        89.900000\n",
       "max       118.650000\n",
       "Name: monthly_charges, dtype: float64"
      ]
     },
     "execution_count": 32,
     "metadata": {},
     "output_type": "execute_result"
    }
   ],
   "source": [
    "# Take a quick look. \n",
    "train.monthly_charges.describe()"
   ]
  },
  {
   "cell_type": "code",
   "execution_count": 33,
   "id": "9263de9c",
   "metadata": {},
   "outputs": [
    {
     "data": {
      "text/plain": [
       "Text(0.5, 1.0, 'monthly_charges vs churn')"
      ]
     },
     "execution_count": 33,
     "metadata": {},
     "output_type": "execute_result"
    },
    {
     "data": {
      "image/png": "[encoded data removed]",
      "text/plain": [
       "<Figure size 432x288 with 1 Axes>"
      ]
     },
     "metadata": {
      "needs_background": "light"
     },
     "output_type": "display_data"
    }
   ],
   "source": [
    "sns.set_palette(sns.color_palette(\"Set2\"))\n",
    "\n",
    "sns.histplot(data=train, x=\"monthly_charges\", hue=\"churn\",multiple=\"stack\", bins =10)\n",
    "\n",
    "plt.title(\"monthly_charges vs churn\")\n",
    "# Seems like the we have a lot of cusotmers really enjoy the affordable monthly plan.  "
   ]
  },
  {
   "cell_type": "code",
   "execution_count": 34,
   "id": "eee82043",
   "metadata": {},
   "outputs": [
    {
     "data": {
      "text/plain": [
       "Text(0.5, 1.0, 'monthly_charges vs churn')"
      ]
     },
     "execution_count": 34,
     "metadata": {},
     "output_type": "execute_result"
    },
    {
     "data": {
      "image/png": "[encoded data removed]",
      "text/plain": [
       "<Figure size 432x288 with 1 Axes>"
      ]
     },
     "metadata": {
      "needs_background": "light"
     },
     "output_type": "display_data"
    }
   ],
   "source": [
    "sns.set_palette(sns.color_palette(\"Set2\"))\n",
    "\n",
    "sns.histplot(data=train, x=\"monthly_charges\", hue=\"churn\",multiple=\"stack\", bins =5)\n",
    "\n",
    "plt.title(\"monthly_charges vs churn\")"
   ]
  },
  {
   "cell_type": "code",
   "execution_count": 35,
   "id": "a64591a3",
   "metadata": {},
   "outputs": [],
   "source": [
    "bins = np.linspace(train['monthly_charges'].min(),train['monthly_charges'].max(),8)\n",
    "bins\n",
    "\n",
    "bins = np.array([20, 40, 60,80,100,120])\n",
    "labels = [\"0-20\", '20-40', '40-60','60-80','80-100']\n",
    "\n",
    "train[\"monthly_charges_level\"] = pd.cut(train['monthly_charges'], bins=bins, labels=labels, include_lowest=True)\n"
   ]
  },
  {
   "cell_type": "code",
   "execution_count": 36,
   "id": "938646a4",
   "metadata": {},
   "outputs": [
    {
     "data": {
      "text/plain": [
       "<matplotlib.lines.Line2D at 0x7fea11089730>"
      ]
     },
     "execution_count": 36,
     "metadata": {},
     "output_type": "execute_result"
    },
    {
     "data": {
      "image/png": "[encoded data removed]",
      "text/plain": [
       "<Figure size 432x288 with 1 Axes>"
      ]
     },
     "metadata": {
      "needs_background": "light"
     },
     "output_type": "display_data"
    }
   ],
   "source": [
    "#sns.set_palette(sns.color_palette(\"Paired\"))\n",
    "sns.set_palette(sns.color_palette(\"rocket_r\"))\n",
    "sns.barplot(x = \"monthly_charges_level\", y ='churn_encoded', data = train)\n",
    "plt.title(\"monthly_charges vs churn by %\")\n",
    "mean = df.churn_int.mean()\n",
    "plt.axhline(mean, ls='--', color='grey')"
   ]
  },
  {
   "cell_type": "code",
   "execution_count": 37,
   "id": "f5524de1",
   "metadata": {},
   "outputs": [],
   "source": [
    "# H0: There is no corelation between monthly charges and churn rate. Corr = 0\n",
    "# H1: There is corelation between monthly charges and churn rate. Corr != 0"
   ]
  },
  {
   "cell_type": "code",
   "execution_count": 38,
   "id": "1664afb6",
   "metadata": {},
   "outputs": [
    {
     "name": "stdout",
     "output_type": "stream",
     "text": [
      "We reject the null hypothesis, that there is no corelation between monthly charges and churn rate is false\n"
     ]
    },
    {
     "data": {
      "text/plain": [
       "(0.19299677673461382, 2.404035414404991e-34)"
      ]
     },
     "execution_count": 38,
     "metadata": {},
     "output_type": "execute_result"
    }
   ],
   "source": [
    "corr, p = stats.pearsonr(train.monthly_charges,train.churn_encoded )\n",
    "\n",
    "if p < alpha:\n",
    "    print(\"We reject the null hypothesis, that there is no corelation between monthly charges and churn rate is false\")\n",
    "else:\n",
    "    print(\"We fail to reject the null hypothesis\")\n",
    "    \n",
    "corr, p"
   ]
  },
  {
   "cell_type": "code",
   "execution_count": 39,
   "id": "35b60d20",
   "metadata": {},
   "outputs": [
    {
     "data": {
      "text/plain": [
       "([<matplotlib.axis.XTick at 0x7fea11341610>,\n",
       "  <matplotlib.axis.XTick at 0x7fea113415e0>],\n",
       " [Text(0, 0, 'No'), Text(1, 0, 'Yes')])"
      ]
     },
     "execution_count": 39,
     "metadata": {},
     "output_type": "execute_result"
    },
    {
     "data": {
      "image/png": "[encoded data removed]",
      "text/plain": [
       "<Figure size 432x288 with 1 Axes>"
      ]
     },
     "metadata": {
      "needs_background": "light"
     },
     "output_type": "display_data"
    }
   ],
   "source": [
    "sns.boxplot(x=train.churn, y=train.monthly_charges, data=train , palette='rocket_r')\n",
    "plt.title('Avg Monthly Charges Are Higher For Customers Who Churn', fontsize=18)\n",
    "plt.xlabel('Has Churned')\n",
    "plt.ylabel('Monthly Charges ($)')\n",
    "plt.xticks([0, 1], ['No','Yes'])"
   ]
  },
  {
   "cell_type": "markdown",
   "id": "65d9750b",
   "metadata": {},
   "source": [
    "\n",
    "### 4. Are customer with fiber optic internet has higher monthly charges than customers with DSL? "
   ]
  },
  {
   "cell_type": "markdown",
   "id": "0e9c939e",
   "metadata": {},
   "source": [
    "#### To get two seperate service data for comparetion. \n"
   ]
  },
  {
   "cell_type": "code",
   "execution_count": 43,
   "id": "6b936be9",
   "metadata": {},
   "outputs": [],
   "source": [
    "# To get two seperate service data for comparetion. \n",
    "DSL_charges = train[train.internet_service_type == 'DSL'].monthly_charges\n",
    "fiber_charges = train[train.internet_service_type == 'Fiber optic'].monthly_charges"
   ]
  },
  {
   "cell_type": "code",
   "execution_count": 44,
   "id": "b210010f",
   "metadata": {},
   "outputs": [
    {
     "data": {
      "text/plain": [
       "<matplotlib.lines.Line2D at 0x7fea11083310>"
      ]
     },
     "execution_count": 44,
     "metadata": {},
     "output_type": "execute_result"
    },
    {
     "data": {
      "image/png": "[encoded data removed]",
      "text/plain": [
       "<Figure size 432x288 with 1 Axes>"
      ]
     },
     "metadata": {
      "needs_background": "light"
     },
     "output_type": "display_data"
    }
   ],
   "source": [
    "mean = fiber_charges.mean()\n",
    "fiber_charges.hist()\n",
    "\n",
    "plt.axhline(mean, ls='--', color='grey')"
   ]
  },
  {
   "cell_type": "code",
   "execution_count": 45,
   "id": "1855b732",
   "metadata": {},
   "outputs": [
    {
     "data": {
      "text/plain": [
       "<matplotlib.lines.Line2D at 0x7fea11626f70>"
      ]
     },
     "execution_count": 45,
     "metadata": {},
     "output_type": "execute_result"
    },
    {
     "data": {
      "image/png": "[encoded data removed]",
      "text/plain": [
       "<Figure size 432x288 with 1 Axes>"
      ]
     },
     "metadata": {
      "needs_background": "light"
     },
     "output_type": "display_data"
    }
   ],
   "source": [
    "DSL_charges.hist()\n",
    "mean = DSL_charges.mean()\n",
    "\n",
    "plt.axhline(mean, ls='--', color='grey')"
   ]
  },
  {
   "cell_type": "markdown",
   "id": "23a83b31",
   "metadata": {},
   "source": [
    "### Takeaways from Explore\n",
    "\n",
    "* Customers who pay manually more likely to churn than customers who pay automatically. \n",
    "<br />\n",
    "<br />\n",
    "* Among all internet services type, Fiber Optic internet services on average are paying more than customers with DSL service, and customers with Fiber have highest churn.\n",
    "<br />\n",
    "<br />\n",
    "* Most of our customers who are churning have higher monthly_charges overall. \n",
    "<br />\n",
    "<br />\n",
    "* Customers are not satisfy with the higher prices associated with fiber optic service."
   ]
  },
  {
   "cell_type": "markdown",
   "id": "f349083d",
   "metadata": {},
   "source": [
    "## Modeling"
   ]
  },
  {
   "cell_type": "code",
   "execution_count": 82,
   "id": "b4286e19",
   "metadata": {},
   "outputs": [
    {
     "data": {
      "text/plain": [
       "No     2891\n",
       "Yes    1046\n",
       "Name: churn, dtype: int64"
      ]
     },
     "execution_count": 82,
     "metadata": {},
     "output_type": "execute_result"
    }
   ],
   "source": [
    "# checking most common value for churn\n",
    "train.churn.value_counts()"
   ]
  },
  {
   "cell_type": "code",
   "execution_count": 83,
   "id": "fc8b6732",
   "metadata": {},
   "outputs": [
    {
     "data": {
      "text/plain": [
       "0.73"
      ]
     },
     "execution_count": 83,
     "metadata": {},
     "output_type": "execute_result"
    }
   ],
   "source": [
    "# calculate baseline accuracy\n",
    "baseline_accuracy = round((train.churn == \"No\").mean(), 2)\n",
    "baseline_accuracy"
   ]
  },
  {
   "cell_type": "markdown",
   "id": "7676437f",
   "metadata": {},
   "source": [
    "**Baseline accuracy is 73%**"
   ]
  },
  {
   "cell_type": "markdown",
   "id": "cd082162",
   "metadata": {},
   "source": [
    "### Model 1, KNN "
   ]
  },
  {
   "cell_type": "code",
   "execution_count": 115,
   "id": "d849ceb7",
   "metadata": {},
   "outputs": [
    {
     "data": {
      "text/plain": [
       "Index(['gender', 'senior_citizen', 'partner', 'dependents', 'tenure',\n",
       "       'phone_service', 'multiple_lines', 'online_security', 'online_backup',\n",
       "       'device_protection', 'tech_support', 'streaming_tv', 'streaming_movies',\n",
       "       'paperless_billing', 'monthly_charges', 'total_charges', 'churn',\n",
       "       'internet_service_type', 'contract_type', 'payment_type',\n",
       "       'gender_encoded', 'partner_encoded', 'dependents_encoded',\n",
       "       'phone_service_encoded', 'paperless_billing_encoded', 'churn_encoded',\n",
       "       'multiple_lines_No phone service', 'multiple_lines_Yes',\n",
       "       'online_security_No internet service', 'online_security_Yes',\n",
       "       'online_backup_No internet service', 'online_backup_Yes',\n",
       "       'device_protection_No internet service', 'device_protection_Yes',\n",
       "       'tech_support_No internet service', 'tech_support_Yes',\n",
       "       'streaming_tv_No internet service', 'streaming_tv_Yes',\n",
       "       'streaming_movies_No internet service', 'streaming_movies_Yes',\n",
       "       'contract_type_One year', 'contract_type_Two year',\n",
       "       'internet_service_type_Fiber optic', 'internet_service_type_None',\n",
       "       'payment_type_Credit card (automatic)', 'payment_type_Electronic check',\n",
       "       'payment_type_Mailed check', 'monthly_charges_level', 'churn_only'],\n",
       "      dtype='object')"
      ]
     },
     "execution_count": 115,
     "metadata": {},
     "output_type": "execute_result"
    }
   ],
   "source": [
    "train.columns"
   ]
  },
  {
   "cell_type": "code",
   "execution_count": 62,
   "id": "86258b14",
   "metadata": {},
   "outputs": [],
   "source": [
    "# create X & y version of train, where y is a series with just the target variable and X are all the features. \n",
    "\n",
    "X_train = train[['monthly_charges','tenure','payment_type_Credit card (automatic)', 'payment_type_Electronic check',\n",
    "       'payment_type_Mailed check','internet_service_type_Fiber optic', 'internet_service_type_None','streaming_tv_Yes',\n",
    "       'streaming_movies_No internet service']]\n",
    "y_train = train.churn\n",
    "\n",
    "X_validate = validate[['monthly_charges','tenure','payment_type_Credit card (automatic)', 'payment_type_Electronic check',\n",
    "       'payment_type_Mailed check','internet_service_type_Fiber optic', 'internet_service_type_None','streaming_tv_Yes',\n",
    "       'streaming_movies_No internet service']]\n",
    "y_validate = validate.churn\n",
    "\n",
    "X_test = test[['monthly_charges','tenure','payment_type_Credit card (automatic)', 'payment_type_Electronic check',\n",
    "       'payment_type_Mailed check','internet_service_type_Fiber optic', 'internet_service_type_None','streaming_tv_Yes',\n",
    "       'streaming_movies_No internet service']]\n",
    "y_test = test.churn"
   ]
  },
  {
   "cell_type": "code",
   "execution_count": 77,
   "id": "8d9f066b",
   "metadata": {},
   "outputs": [
    {
     "name": "stdout",
     "output_type": "stream",
     "text": [
      "This KNN model train_accuracy: 0.84\n",
      "This KNN model validate_accuracy: 0.77\n"
     ]
    }
   ],
   "source": [
    "# Evaluate Random Forest model on train & validate set\n",
    "\n",
    "# define the model setting hyperparameters to values for current loop\n",
    "knn = KNeighborsClassifier(n_neighbors=4, weights='uniform')\n",
    "\n",
    "# fit the model on train\n",
    "knn.fit(X_train, y_train)\n",
    "\n",
    "y_pred = knn.predict(X_train)\n",
    "\n",
    "# use the model and evaluate performance on train\n",
    "train_accuracy = round(knn.score(X_train, y_train),2)\n",
    "\n",
    "# use the model and evaluate performance on validate\n",
    "validate_accuracy=round(knn.score(X_validate, y_validate),2)\n",
    "\n",
    "print(f'This KNN model train_accuracy: {train_accuracy}')\n",
    "print(f'This KNN model validate_accuracy: {validate_accuracy}')\n"
   ]
  },
  {
   "cell_type": "code",
   "execution_count": 139,
   "id": "2d2ebd4b",
   "metadata": {},
   "outputs": [
    {
     "data": {
      "text/html": [
       "<div>\n",
       "<style scoped>\n",
       "    .dataframe tbody tr th:only-of-type {\n",
       "        vertical-align: middle;\n",
       "    }\n",
       "\n",
       "    .dataframe tbody tr th {\n",
       "        vertical-align: top;\n",
       "    }\n",
       "\n",
       "    .dataframe thead th {\n",
       "        text-align: right;\n",
       "    }\n",
       "</style>\n",
       "<table border=\"1\" class=\"dataframe\">\n",
       "  <thead>\n",
       "    <tr style=\"text-align: right;\">\n",
       "      <th></th>\n",
       "      <th>max_neighbor</th>\n",
       "      <th>in_sample_accuracy</th>\n",
       "      <th>out_of_sample_accuracy</th>\n",
       "    </tr>\n",
       "  </thead>\n",
       "  <tbody>\n",
       "    <tr>\n",
       "      <th>0</th>\n",
       "      <td>9</td>\n",
       "      <td>0.810</td>\n",
       "      <td>0.778</td>\n",
       "    </tr>\n",
       "    <tr>\n",
       "      <th>1</th>\n",
       "      <td>8</td>\n",
       "      <td>0.821</td>\n",
       "      <td>0.781</td>\n",
       "    </tr>\n",
       "    <tr>\n",
       "      <th>2</th>\n",
       "      <td>7</td>\n",
       "      <td>0.823</td>\n",
       "      <td>0.768</td>\n",
       "    </tr>\n",
       "    <tr>\n",
       "      <th>3</th>\n",
       "      <td>6</td>\n",
       "      <td>0.824</td>\n",
       "      <td>0.776</td>\n",
       "    </tr>\n",
       "    <tr>\n",
       "      <th>4</th>\n",
       "      <td>5</td>\n",
       "      <td>0.832</td>\n",
       "      <td>0.775</td>\n",
       "    </tr>\n",
       "    <tr>\n",
       "      <th>5</th>\n",
       "      <td>4</td>\n",
       "      <td>0.835</td>\n",
       "      <td>0.768</td>\n",
       "    </tr>\n",
       "    <tr>\n",
       "      <th>6</th>\n",
       "      <td>3</td>\n",
       "      <td>0.864</td>\n",
       "      <td>0.751</td>\n",
       "    </tr>\n",
       "    <tr>\n",
       "      <th>7</th>\n",
       "      <td>2</td>\n",
       "      <td>0.868</td>\n",
       "      <td>0.764</td>\n",
       "    </tr>\n",
       "    <tr>\n",
       "      <th>8</th>\n",
       "      <td>1</td>\n",
       "      <td>0.993</td>\n",
       "      <td>0.741</td>\n",
       "    </tr>\n",
       "  </tbody>\n",
       "</table>\n",
       "</div>"
      ],
      "text/plain": [
       "   max_neighbor  in_sample_accuracy  out_of_sample_accuracy\n",
       "0             9               0.810                   0.778\n",
       "1             8               0.821                   0.781\n",
       "2             7               0.823                   0.768\n",
       "3             6               0.824                   0.776\n",
       "4             5               0.832                   0.775\n",
       "5             4               0.835                   0.768\n",
       "6             3               0.864                   0.751\n",
       "7             2               0.868                   0.764\n",
       "8             1               0.993                   0.741"
      ]
     },
     "execution_count": 139,
     "metadata": {},
     "output_type": "execute_result"
    }
   ],
   "source": [
    "max_neighbors = 11\n",
    "score = []\n",
    "\n",
    "for i in range(2, max_neighbors):\n",
    "    neighbor = max_depth - i\n",
    "    \n",
    "    knn = KNeighborsClassifier(n_neighbors=neighbor, weights='uniform')\n",
    "    \n",
    "    knn.fit(X_train, y_train)\n",
    "\n",
    "    in_sample = knn.score(X_train, y_train)\n",
    "    out_of_sample = knn.score(X_validate, y_validate)\n",
    "    \n",
    "    output = {\n",
    "              \"max_neighbor\" : neighbor, \n",
    "              \"in_sample_accuracy\" :in_sample.round(3),\n",
    "              \"out_of_sample_accuracy\":out_of_sample.round(3),\n",
    "             }\n",
    "    \n",
    "    score.append(output)\n",
    "   \n",
    "df = pd.DataFrame(score)\n",
    "df"
   ]
  },
  {
   "cell_type": "markdown",
   "id": "9c3b5192",
   "metadata": {},
   "source": [
    "## Model 2, RandomForest"
   ]
  },
  {
   "cell_type": "code",
   "execution_count": 57,
   "id": "976a88b7",
   "metadata": {},
   "outputs": [],
   "source": [
    "# create X & y version of train, where y is a series with just the target variable and X are all the features. \n",
    "\n",
    "X_train = train[['monthly_charges','tenure','payment_type_Credit card (automatic)', 'payment_type_Electronic check',\n",
    "       'payment_type_Mailed check','internet_service_type_Fiber optic', 'internet_service_type_None','streaming_tv_Yes',\n",
    "       'streaming_movies_No internet service']]\n",
    "y_train = train.churn\n",
    "\n",
    "X_validate = validate[['monthly_charges','tenure','payment_type_Credit card (automatic)', 'payment_type_Electronic check',\n",
    "       'payment_type_Mailed check','internet_service_type_Fiber optic', 'internet_service_type_None','streaming_tv_Yes',\n",
    "       'streaming_movies_No internet service']]\n",
    "y_validate = validate.churn\n",
    "\n",
    "X_test = test[['monthly_charges','tenure','payment_type_Credit card (automatic)', 'payment_type_Electronic check',\n",
    "       'payment_type_Mailed check','internet_service_type_Fiber optic', 'internet_service_type_None','streaming_tv_Yes',\n",
    "       'streaming_movies_No internet service']]\n",
    "y_test = test.churn"
   ]
  },
  {
   "cell_type": "code",
   "execution_count": 58,
   "id": "23c72927",
   "metadata": {},
   "outputs": [
    {
     "name": "stdout",
     "output_type": "stream",
     "text": [
      "This random forest model train_accuracy: 0.81\n",
      "This random forest model validate_accuracy: 0.81\n"
     ]
    }
   ],
   "source": [
    "#build the model\n",
    "rf = RandomForestClassifier(n_estimators=200,max_depth=6,random_state=1349)\n",
    "#fit the model\n",
    "rf.fit(X_train, y_train)\n",
    "\n",
    "# use the model and evaluate performance on train\n",
    "train_accuracy = round(rf.score(X_train, y_train),2)\n",
    "\n",
    "# use the model and evaluate performance on validate\n",
    "validate_accuracy = round(rf.score(X_validate, y_validate),2)\n",
    "\n",
    "print(f'This random forest model train_accuracy: {train_accuracy}')\n",
    "print(f'This random forest model validate_accuracy: {validate_accuracy}')\n"
   ]
  },
  {
   "cell_type": "markdown",
   "id": "fa2f7f40",
   "metadata": {},
   "source": [
    "## Model 3, Logistic Regression"
   ]
  },
  {
   "cell_type": "code",
   "execution_count": 52,
   "id": "87fd9b0a",
   "metadata": {},
   "outputs": [],
   "source": [
    "X_train = train[['monthly_charges','tenure','payment_type_Credit card (automatic)', 'payment_type_Electronic check',\n",
    "       'payment_type_Mailed check','internet_service_type_Fiber optic', 'internet_service_type_None','streaming_tv_Yes',\n",
    "       'streaming_movies_No internet service']]\n",
    "y_train = train.churn\n",
    "\n",
    "X_validate = validate[['monthly_charges','tenure','payment_type_Credit card (automatic)', 'payment_type_Electronic check',\n",
    "       'payment_type_Mailed check','internet_service_type_Fiber optic', 'internet_service_type_None','streaming_tv_Yes',\n",
    "       'streaming_movies_No internet service']]\n",
    "y_validate = validate.churn\n",
    "\n",
    "X_test = test[['monthly_charges','tenure','payment_type_Credit card (automatic)', 'payment_type_Electronic check',\n",
    "       'payment_type_Mailed check','internet_service_type_Fiber optic', 'internet_service_type_None','streaming_tv_Yes',\n",
    "       'streaming_movies_No internet service']]\n",
    "y_test = test.churn"
   ]
  },
  {
   "cell_type": "code",
   "execution_count": 53,
   "id": "0957e9c5",
   "metadata": {},
   "outputs": [
    {
     "name": "stdout",
     "output_type": "stream",
     "text": [
      "This logistic regression model train_accuracy: 0.79\n",
      "This logistic regression model validate_accuracy: 0.8\n"
     ]
    }
   ],
   "source": [
    "\n",
    "# Define the logistic regression model\n",
    "logit = LogisticRegression(C=1, random_state=123)\n",
    "\n",
    "#  fit the model on train data\n",
    "logit.fit(X_train, y_train)\n",
    "# now use the model to make predictions\n",
    "y_pred = logit.predict(X_train)\n",
    "train_accuracy = round(logit.score(X_train, y_train),2)\n",
    "\n",
    "validate_accuracy= round(logit.score(X_validate, y_validate),2)\n",
    "print(f'This logistic regression model train_accuracy: {train_accuracy}')\n",
    "print(f'This logistic regression model validate_accuracy: {validate_accuracy}')"
   ]
  },
  {
   "cell_type": "markdown",
   "id": "0e66090b",
   "metadata": {},
   "source": [
    "### Model 2, RandomForest perform the best, apply on test data"
   ]
  },
  {
   "cell_type": "markdown",
   "id": "1674c5c2",
   "metadata": {},
   "source": [
    "**The random forest models proved to be the most accurate for this dataset although the k-nearest neighbors and logistic regression models were pretty close.**"
   ]
  },
  {
   "cell_type": "code",
   "execution_count": 59,
   "id": "ec33c437",
   "metadata": {},
   "outputs": [
    {
     "data": {
      "text/plain": [
       "0.79"
      ]
     },
     "execution_count": 59,
     "metadata": {},
     "output_type": "execute_result"
    }
   ],
   "source": [
    "round(rf.score(X_test, y_test),2)"
   ]
  },
  {
   "cell_type": "code",
   "execution_count": 60,
   "id": "7bfa7353",
   "metadata": {},
   "outputs": [],
   "source": [
    "y_pred = rf.predict(X_test)"
   ]
  },
  {
   "cell_type": "code",
   "execution_count": 50,
   "id": "7cd25f50",
   "metadata": {},
   "outputs": [],
   "source": [
    "y_pred = pd.DataFrame(y_pred)"
   ]
  },
  {
   "cell_type": "code",
   "execution_count": 62,
   "id": "8e65dc21",
   "metadata": {},
   "outputs": [],
   "source": [
    "X_test['pred'] = y_pred\n",
    "prediction = X_test\n",
    "prediction.to_excel('prediction.xlsx',  sheet_name='Sheet1')"
   ]
  },
  {
   "cell_type": "markdown",
   "id": "e95e0950",
   "metadata": {},
   "source": [
    "**Test accuracy for this model is 79%, 4% higher than the baseline**"
   ]
  },
  {
   "cell_type": "markdown",
   "id": "eb720448",
   "metadata": {},
   "source": [
    "# Conclusion"
   ]
  },
  {
   "cell_type": "markdown",
   "id": "0929a912",
   "metadata": {},
   "source": [
    "## Summary\n"
   ]
  },
  {
   "cell_type": "markdown",
   "id": "331cee67",
   "metadata": {},
   "source": [
    "Goals of this project were:\n",
    "\n",
    "* To identify reasons of customer churn and look for possible solutions.\n",
    "\n",
    "* To construct models that predicts customers churn rate. \n",
    "\n",
    "Key drivers for customer churn: \n",
    "\n",
    "* Fiber optic internet service high price. \n",
    "\n",
    "* Higher monthly charges.\n",
    "\n",
    "* Manual payment methods. \n",
    "\n",
    "Prediction: \n",
    "* The model perform with about 79% of accuracy on test/unseen data which will help the company to keep customer. "
   ]
  },
  {
   "cell_type": "markdown",
   "id": "2cf74eab",
   "metadata": {},
   "source": [
    "# Recommendations"
   ]
  },
  {
   "cell_type": "markdown",
   "id": "623f15f6",
   "metadata": {},
   "source": [
    "* Reduce monthly charges especially on fiber optic internet service\n",
    "<br />\n",
    "\n",
    "* Offer discount or launch promotions for customer to opt-in auto pay. "
   ]
  },
  {
   "cell_type": "markdown",
   "id": "668ab2d8",
   "metadata": {},
   "source": [
    "## Next Steps\n",
    "* Need more time to investigate the fiber optic inernet services, the service quality, causes of the higher price.... etc. "
   ]
  },
  {
   "cell_type": "code",
   "execution_count": null,
   "id": "8e9e7df1",
   "metadata": {},
   "outputs": [],
   "source": []
  }
 ],
 "metadata": {
  "kernelspec": {
   "display_name": "Python 3 (ipykernel)",
   "language": "python",
   "name": "python3"
  },
  "language_info": {
   "codemirror_mode": {
    "name": "ipython",
    "version": 3
   },
   "file_extension": ".py",
   "mimetype": "text/x-python",
   "name": "python",
   "nbconvert_exporter": "python",
   "pygments_lexer": "ipython3",
   "version": "3.9.7"
  }
 },
 "nbformat": 4,
 "nbformat_minor": 5
}
