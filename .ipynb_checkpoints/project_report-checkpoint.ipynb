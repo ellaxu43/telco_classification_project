{
 "cells": [
  {
   "cell_type": "code",
   "execution_count": 1,
   "id": "1c8bb289",
   "metadata": {},
   "outputs": [],
   "source": [
    "#math and statistics.\n",
    "from scipy import stats\n",
    "import statistics\n",
    "import math\n",
    "\n",
    "#impot matplot and seaborn for viz.\n",
    "import matplotlib.pyplot as plt\n",
    "import seaborn as sns\n",
    "\n",
    "#numpy and pandas library\n",
    "import numpy as np\n",
    "import pandas as pd\n",
    "\n",
    "#dataset library\n",
    "from pydataset import data\n",
    "import env\n",
    "import acquire\n",
    "\n",
    "\n",
    "import warnings \n",
    "warnings.filterwarnings(\"ignore\")\n",
    "\n",
    "from sklearn.tree import DecisionTreeClassifier, plot_tree, export_text\n",
    "from sklearn.model_selection import train_test_split\n",
    "from sklearn.metrics import classification_report\n",
    "from sklearn.metrics import confusion_matrix"
   ]
  },
  {
   "cell_type": "markdown",
   "id": "c3832693",
   "metadata": {},
   "source": [
    "# Goals\n",
    "The goal of this report is to reduce churn in Telco. This project aims to discover features that may be related to churn, and use these discoveries to create a machine learning classification model that can predict if a customer is about to churn or not."
   ]
  },
  {
   "cell_type": "markdown",
   "id": "eec6bd5b",
   "metadata": {},
   "source": [
    "# Planning\n",
    "\n",
    "1.Setup Github repo. \n",
    "\n",
    "2.Accquire the Data.\n",
    "\n",
    "3.Clean the Data, import the data cleaning fuction. \n",
    "\n",
    "4.Explore the Train Dataset.\n",
    "\n",
    "5.Train and Evalutate models.\n",
    "\n",
    "6.Create a csv file with predictions. \n",
    "\n",
    "7.Report conclusions and summaries."
   ]
  },
  {
   "cell_type": "markdown",
   "id": "eb7029ad",
   "metadata": {},
   "source": [
    "# Accquire the Data"
   ]
  },
  {
   "cell_type": "code",
   "execution_count": 11,
   "id": "6712b869",
   "metadata": {},
   "outputs": [
    {
     "name": "stdout",
     "output_type": "stream",
     "text": [
      "Using cached csv\n"
     ]
    }
   ],
   "source": [
    "df = acquire.get_telco_data()"
   ]
  },
  {
   "cell_type": "code",
   "execution_count": 4,
   "id": "c915e86d",
   "metadata": {},
   "outputs": [
    {
     "data": {
      "text/html": [
       "<div>\n",
       "<style scoped>\n",
       "    .dataframe tbody tr th:only-of-type {\n",
       "        vertical-align: middle;\n",
       "    }\n",
       "\n",
       "    .dataframe tbody tr th {\n",
       "        vertical-align: top;\n",
       "    }\n",
       "\n",
       "    .dataframe thead th {\n",
       "        text-align: right;\n",
       "    }\n",
       "</style>\n",
       "<table border=\"1\" class=\"dataframe\">\n",
       "  <thead>\n",
       "    <tr style=\"text-align: right;\">\n",
       "      <th></th>\n",
       "      <th>payment_type_id</th>\n",
       "      <th>contract_type_id</th>\n",
       "      <th>internet_service_type_id</th>\n",
       "      <th>customer_id</th>\n",
       "      <th>gender</th>\n",
       "      <th>senior_citizen</th>\n",
       "      <th>partner</th>\n",
       "      <th>dependents</th>\n",
       "      <th>tenure</th>\n",
       "      <th>phone_service</th>\n",
       "      <th>...</th>\n",
       "      <th>tech_support</th>\n",
       "      <th>streaming_tv</th>\n",
       "      <th>streaming_movies</th>\n",
       "      <th>paperless_billing</th>\n",
       "      <th>monthly_charges</th>\n",
       "      <th>total_charges</th>\n",
       "      <th>churn</th>\n",
       "      <th>internet_service_type</th>\n",
       "      <th>contract_type</th>\n",
       "      <th>payment_type</th>\n",
       "    </tr>\n",
       "  </thead>\n",
       "  <tbody>\n",
       "    <tr>\n",
       "      <th>0</th>\n",
       "      <td>2</td>\n",
       "      <td>2</td>\n",
       "      <td>1</td>\n",
       "      <td>0002-ORFBO</td>\n",
       "      <td>Female</td>\n",
       "      <td>0</td>\n",
       "      <td>Yes</td>\n",
       "      <td>Yes</td>\n",
       "      <td>9</td>\n",
       "      <td>Yes</td>\n",
       "      <td>...</td>\n",
       "      <td>Yes</td>\n",
       "      <td>Yes</td>\n",
       "      <td>No</td>\n",
       "      <td>Yes</td>\n",
       "      <td>65.6</td>\n",
       "      <td>593.3</td>\n",
       "      <td>No</td>\n",
       "      <td>DSL</td>\n",
       "      <td>One year</td>\n",
       "      <td>Mailed check</td>\n",
       "    </tr>\n",
       "    <tr>\n",
       "      <th>1</th>\n",
       "      <td>2</td>\n",
       "      <td>1</td>\n",
       "      <td>1</td>\n",
       "      <td>0003-MKNFE</td>\n",
       "      <td>Male</td>\n",
       "      <td>0</td>\n",
       "      <td>No</td>\n",
       "      <td>No</td>\n",
       "      <td>9</td>\n",
       "      <td>Yes</td>\n",
       "      <td>...</td>\n",
       "      <td>No</td>\n",
       "      <td>No</td>\n",
       "      <td>Yes</td>\n",
       "      <td>No</td>\n",
       "      <td>59.9</td>\n",
       "      <td>542.4</td>\n",
       "      <td>No</td>\n",
       "      <td>DSL</td>\n",
       "      <td>Month-to-month</td>\n",
       "      <td>Mailed check</td>\n",
       "    </tr>\n",
       "  </tbody>\n",
       "</table>\n",
       "<p>2 rows × 24 columns</p>\n",
       "</div>"
      ],
      "text/plain": [
       "   payment_type_id  contract_type_id  internet_service_type_id customer_id  \\\n",
       "0                2                 2                         1  0002-ORFBO   \n",
       "1                2                 1                         1  0003-MKNFE   \n",
       "\n",
       "   gender  senior_citizen partner dependents  tenure phone_service  ...  \\\n",
       "0  Female               0     Yes        Yes       9           Yes  ...   \n",
       "1    Male               0      No         No       9           Yes  ...   \n",
       "\n",
       "  tech_support streaming_tv streaming_movies paperless_billing  \\\n",
       "0          Yes          Yes               No               Yes   \n",
       "1           No           No              Yes                No   \n",
       "\n",
       "  monthly_charges total_charges churn internet_service_type   contract_type  \\\n",
       "0            65.6         593.3    No                   DSL        One year   \n",
       "1            59.9         542.4    No                   DSL  Month-to-month   \n",
       "\n",
       "   payment_type  \n",
       "0  Mailed check  \n",
       "1  Mailed check  \n",
       "\n",
       "[2 rows x 24 columns]"
      ]
     },
     "execution_count": 4,
     "metadata": {},
     "output_type": "execute_result"
    }
   ],
   "source": [
    "df.head(2)"
   ]
  },
  {
   "cell_type": "markdown",
   "id": "53959a72",
   "metadata": {},
   "source": [
    "# Cleaning the Data"
   ]
  },
  {
   "cell_type": "code",
   "execution_count": 5,
   "id": "4cd2754d",
   "metadata": {},
   "outputs": [
    {
     "data": {
      "text/plain": [
       "Index(['payment_type_id', 'contract_type_id', 'internet_service_type_id',\n",
       "       'customer_id', 'gender', 'senior_citizen', 'partner', 'dependents',\n",
       "       'tenure', 'phone_service', 'multiple_lines', 'online_security',\n",
       "       'online_backup', 'device_protection', 'tech_support', 'streaming_tv',\n",
       "       'streaming_movies', 'paperless_billing', 'monthly_charges',\n",
       "       'total_charges', 'churn', 'internet_service_type', 'contract_type',\n",
       "       'payment_type'],\n",
       "      dtype='object')"
      ]
     },
     "execution_count": 5,
     "metadata": {},
     "output_type": "execute_result"
    }
   ],
   "source": [
    "# First, we will drop some columns that are not very useful. \n",
    "#customer_id\n",
    "#payment_type_id\n",
    "# contract_type\n",
    "#internet_service_type_id\n",
    "\n",
    "df.columns"
   ]
  },
  {
   "cell_type": "code",
   "execution_count": 7,
   "id": "c54810ec",
   "metadata": {},
   "outputs": [],
   "source": [
    "df = df.drop(columns = ['payment_type_id', 'contract_type_id', 'internet_service_type_id',\n",
    "       'customer_id'])"
   ]
  },
  {
   "cell_type": "code",
   "execution_count": 10,
   "id": "4ac08ced",
   "metadata": {},
   "outputs": [
    {
     "name": "stdout",
     "output_type": "stream",
     "text": [
      "<class 'pandas.core.frame.DataFrame'>\n",
      "RangeIndex: 7043 entries, 0 to 7042\n",
      "Data columns (total 20 columns):\n",
      " #   Column                 Non-Null Count  Dtype  \n",
      "---  ------                 --------------  -----  \n",
      " 0   gender                 7043 non-null   object \n",
      " 1   senior_citizen         7043 non-null   int64  \n",
      " 2   partner                7043 non-null   object \n",
      " 3   dependents             7043 non-null   object \n",
      " 4   tenure                 7043 non-null   int64  \n",
      " 5   phone_service          7043 non-null   object \n",
      " 6   multiple_lines         7043 non-null   object \n",
      " 7   online_security        7043 non-null   object \n",
      " 8   online_backup          7043 non-null   object \n",
      " 9   device_protection      7043 non-null   object \n",
      " 10  tech_support           7043 non-null   object \n",
      " 11  streaming_tv           7043 non-null   object \n",
      " 12  streaming_movies       7043 non-null   object \n",
      " 13  paperless_billing      7043 non-null   object \n",
      " 14  monthly_charges        7043 non-null   float64\n",
      " 15  total_charges          7043 non-null   object \n",
      " 16  churn                  7043 non-null   object \n",
      " 17  internet_service_type  7043 non-null   object \n",
      " 18  contract_type          7043 non-null   object \n",
      " 19  payment_type           7043 non-null   object \n",
      "dtypes: float64(1), int64(2), object(17)\n",
      "memory usage: 1.1+ MB\n"
     ]
    }
   ],
   "source": [
    "df.info(2)"
   ]
  },
  {
   "cell_type": "code",
   "execution_count": 22,
   "id": "fb6cf528",
   "metadata": {},
   "outputs": [],
   "source": [
    "def prep_telco_data(df):\n",
    "    df = acquire.get_telco_data()\n",
    "    # Drop duplicate columns\n",
    "    df.drop(columns=['payment_type_id', 'internet_service_type_id', 'contract_type_id', 'customer_id'], inplace=True)\n",
    "       \n",
    "    # Drop null values stored as whitespace    \n",
    "    df['total_charges'] = df['total_charges'].str.strip()\n",
    "    df = df[df.total_charges != '']\n",
    "    \n",
    "    # Convert to correct datatype\n",
    "    df['total_charges'] = df.total_charges.astype(float)\n",
    "    \n",
    "    # Convert binary categorical variables to numeric\n",
    "    df['gender_encoded'] = df.gender.map({'Female': 1, 'Male': 0})\n",
    "    df['partner_encoded'] = df.partner.map({'Yes': 1, 'No': 0})\n",
    "    df['dependents_encoded'] = df.dependents.map({'Yes': 1, 'No': 0})\n",
    "    df['phone_service_encoded'] = df.phone_service.map({'Yes': 1, 'No': 0})\n",
    "    df['paperless_billing_encoded'] = df.paperless_billing.map({'Yes': 1, 'No': 0})\n",
    "    df['churn_encoded'] = df.churn.map({'Yes': 1, 'No': 0})\n",
    "    \n",
    "    # Get dummies for non-binary categorical variables\n",
    "    dummy_df = pd.get_dummies(df[['multiple_lines', \\\n",
    "                              'online_security', \\\n",
    "                              'online_backup', \\\n",
    "                              'device_protection', \\\n",
    "                              'tech_support', \\\n",
    "                              'streaming_tv', \\\n",
    "                              'streaming_movies', \\\n",
    "                              'contract_type', \\\n",
    "                              'internet_service_type', \\\n",
    "                              'payment_type']], dummy_na=False, \\\n",
    "                              drop_first=True)\n",
    "    \n",
    "    # Concatenate dummy dataframe to original \n",
    "    df = pd.concat([df, dummy_df], axis=1)\n",
    "    \n",
    "    return df"
   ]
  },
  {
   "cell_type": "code",
   "execution_count": 23,
   "id": "dcb4bd14",
   "metadata": {},
   "outputs": [
    {
     "name": "stdout",
     "output_type": "stream",
     "text": [
      "Using cached csv\n"
     ]
    }
   ],
   "source": [
    "df = prep_telco_data(df)"
   ]
  },
  {
   "cell_type": "code",
   "execution_count": 24,
   "id": "297bffac",
   "metadata": {},
   "outputs": [
    {
     "data": {
      "text/html": [
       "<div>\n",
       "<style scoped>\n",
       "    .dataframe tbody tr th:only-of-type {\n",
       "        vertical-align: middle;\n",
       "    }\n",
       "\n",
       "    .dataframe tbody tr th {\n",
       "        vertical-align: top;\n",
       "    }\n",
       "\n",
       "    .dataframe thead th {\n",
       "        text-align: right;\n",
       "    }\n",
       "</style>\n",
       "<table border=\"1\" class=\"dataframe\">\n",
       "  <thead>\n",
       "    <tr style=\"text-align: right;\">\n",
       "      <th></th>\n",
       "      <th>gender</th>\n",
       "      <th>senior_citizen</th>\n",
       "      <th>partner</th>\n",
       "      <th>dependents</th>\n",
       "      <th>tenure</th>\n",
       "      <th>phone_service</th>\n",
       "      <th>multiple_lines</th>\n",
       "      <th>online_security</th>\n",
       "      <th>online_backup</th>\n",
       "      <th>device_protection</th>\n",
       "      <th>...</th>\n",
       "      <th>streaming_tv_Yes</th>\n",
       "      <th>streaming_movies_No internet service</th>\n",
       "      <th>streaming_movies_Yes</th>\n",
       "      <th>contract_type_One year</th>\n",
       "      <th>contract_type_Two year</th>\n",
       "      <th>internet_service_type_Fiber optic</th>\n",
       "      <th>internet_service_type_None</th>\n",
       "      <th>payment_type_Credit card (automatic)</th>\n",
       "      <th>payment_type_Electronic check</th>\n",
       "      <th>payment_type_Mailed check</th>\n",
       "    </tr>\n",
       "  </thead>\n",
       "  <tbody>\n",
       "    <tr>\n",
       "      <th>0</th>\n",
       "      <td>Female</td>\n",
       "      <td>0</td>\n",
       "      <td>Yes</td>\n",
       "      <td>Yes</td>\n",
       "      <td>9</td>\n",
       "      <td>Yes</td>\n",
       "      <td>No</td>\n",
       "      <td>No</td>\n",
       "      <td>Yes</td>\n",
       "      <td>No</td>\n",
       "      <td>...</td>\n",
       "      <td>1</td>\n",
       "      <td>0</td>\n",
       "      <td>0</td>\n",
       "      <td>1</td>\n",
       "      <td>0</td>\n",
       "      <td>0</td>\n",
       "      <td>0</td>\n",
       "      <td>0</td>\n",
       "      <td>0</td>\n",
       "      <td>1</td>\n",
       "    </tr>\n",
       "    <tr>\n",
       "      <th>1</th>\n",
       "      <td>Male</td>\n",
       "      <td>0</td>\n",
       "      <td>No</td>\n",
       "      <td>No</td>\n",
       "      <td>9</td>\n",
       "      <td>Yes</td>\n",
       "      <td>Yes</td>\n",
       "      <td>No</td>\n",
       "      <td>No</td>\n",
       "      <td>No</td>\n",
       "      <td>...</td>\n",
       "      <td>0</td>\n",
       "      <td>0</td>\n",
       "      <td>1</td>\n",
       "      <td>0</td>\n",
       "      <td>0</td>\n",
       "      <td>0</td>\n",
       "      <td>0</td>\n",
       "      <td>0</td>\n",
       "      <td>0</td>\n",
       "      <td>1</td>\n",
       "    </tr>\n",
       "    <tr>\n",
       "      <th>2</th>\n",
       "      <td>Male</td>\n",
       "      <td>0</td>\n",
       "      <td>No</td>\n",
       "      <td>No</td>\n",
       "      <td>4</td>\n",
       "      <td>Yes</td>\n",
       "      <td>No</td>\n",
       "      <td>No</td>\n",
       "      <td>No</td>\n",
       "      <td>Yes</td>\n",
       "      <td>...</td>\n",
       "      <td>0</td>\n",
       "      <td>0</td>\n",
       "      <td>0</td>\n",
       "      <td>0</td>\n",
       "      <td>0</td>\n",
       "      <td>1</td>\n",
       "      <td>0</td>\n",
       "      <td>0</td>\n",
       "      <td>1</td>\n",
       "      <td>0</td>\n",
       "    </tr>\n",
       "    <tr>\n",
       "      <th>3</th>\n",
       "      <td>Male</td>\n",
       "      <td>1</td>\n",
       "      <td>Yes</td>\n",
       "      <td>No</td>\n",
       "      <td>13</td>\n",
       "      <td>Yes</td>\n",
       "      <td>No</td>\n",
       "      <td>No</td>\n",
       "      <td>Yes</td>\n",
       "      <td>Yes</td>\n",
       "      <td>...</td>\n",
       "      <td>1</td>\n",
       "      <td>0</td>\n",
       "      <td>1</td>\n",
       "      <td>0</td>\n",
       "      <td>0</td>\n",
       "      <td>1</td>\n",
       "      <td>0</td>\n",
       "      <td>0</td>\n",
       "      <td>1</td>\n",
       "      <td>0</td>\n",
       "    </tr>\n",
       "    <tr>\n",
       "      <th>4</th>\n",
       "      <td>Female</td>\n",
       "      <td>1</td>\n",
       "      <td>Yes</td>\n",
       "      <td>No</td>\n",
       "      <td>3</td>\n",
       "      <td>Yes</td>\n",
       "      <td>No</td>\n",
       "      <td>No</td>\n",
       "      <td>No</td>\n",
       "      <td>No</td>\n",
       "      <td>...</td>\n",
       "      <td>1</td>\n",
       "      <td>0</td>\n",
       "      <td>0</td>\n",
       "      <td>0</td>\n",
       "      <td>0</td>\n",
       "      <td>1</td>\n",
       "      <td>0</td>\n",
       "      <td>0</td>\n",
       "      <td>0</td>\n",
       "      <td>1</td>\n",
       "    </tr>\n",
       "    <tr>\n",
       "      <th>...</th>\n",
       "      <td>...</td>\n",
       "      <td>...</td>\n",
       "      <td>...</td>\n",
       "      <td>...</td>\n",
       "      <td>...</td>\n",
       "      <td>...</td>\n",
       "      <td>...</td>\n",
       "      <td>...</td>\n",
       "      <td>...</td>\n",
       "      <td>...</td>\n",
       "      <td>...</td>\n",
       "      <td>...</td>\n",
       "      <td>...</td>\n",
       "      <td>...</td>\n",
       "      <td>...</td>\n",
       "      <td>...</td>\n",
       "      <td>...</td>\n",
       "      <td>...</td>\n",
       "      <td>...</td>\n",
       "      <td>...</td>\n",
       "      <td>...</td>\n",
       "    </tr>\n",
       "    <tr>\n",
       "      <th>7038</th>\n",
       "      <td>Female</td>\n",
       "      <td>0</td>\n",
       "      <td>No</td>\n",
       "      <td>No</td>\n",
       "      <td>13</td>\n",
       "      <td>Yes</td>\n",
       "      <td>No</td>\n",
       "      <td>Yes</td>\n",
       "      <td>No</td>\n",
       "      <td>No</td>\n",
       "      <td>...</td>\n",
       "      <td>0</td>\n",
       "      <td>0</td>\n",
       "      <td>0</td>\n",
       "      <td>1</td>\n",
       "      <td>0</td>\n",
       "      <td>0</td>\n",
       "      <td>0</td>\n",
       "      <td>0</td>\n",
       "      <td>0</td>\n",
       "      <td>1</td>\n",
       "    </tr>\n",
       "    <tr>\n",
       "      <th>7039</th>\n",
       "      <td>Male</td>\n",
       "      <td>0</td>\n",
       "      <td>Yes</td>\n",
       "      <td>No</td>\n",
       "      <td>22</td>\n",
       "      <td>Yes</td>\n",
       "      <td>Yes</td>\n",
       "      <td>No</td>\n",
       "      <td>No</td>\n",
       "      <td>No</td>\n",
       "      <td>...</td>\n",
       "      <td>0</td>\n",
       "      <td>0</td>\n",
       "      <td>1</td>\n",
       "      <td>0</td>\n",
       "      <td>0</td>\n",
       "      <td>1</td>\n",
       "      <td>0</td>\n",
       "      <td>0</td>\n",
       "      <td>1</td>\n",
       "      <td>0</td>\n",
       "    </tr>\n",
       "    <tr>\n",
       "      <th>7040</th>\n",
       "      <td>Male</td>\n",
       "      <td>0</td>\n",
       "      <td>No</td>\n",
       "      <td>No</td>\n",
       "      <td>2</td>\n",
       "      <td>Yes</td>\n",
       "      <td>No</td>\n",
       "      <td>No</td>\n",
       "      <td>Yes</td>\n",
       "      <td>No</td>\n",
       "      <td>...</td>\n",
       "      <td>0</td>\n",
       "      <td>0</td>\n",
       "      <td>0</td>\n",
       "      <td>0</td>\n",
       "      <td>0</td>\n",
       "      <td>0</td>\n",
       "      <td>0</td>\n",
       "      <td>0</td>\n",
       "      <td>0</td>\n",
       "      <td>1</td>\n",
       "    </tr>\n",
       "    <tr>\n",
       "      <th>7041</th>\n",
       "      <td>Male</td>\n",
       "      <td>0</td>\n",
       "      <td>Yes</td>\n",
       "      <td>Yes</td>\n",
       "      <td>67</td>\n",
       "      <td>Yes</td>\n",
       "      <td>No</td>\n",
       "      <td>Yes</td>\n",
       "      <td>No</td>\n",
       "      <td>Yes</td>\n",
       "      <td>...</td>\n",
       "      <td>0</td>\n",
       "      <td>0</td>\n",
       "      <td>1</td>\n",
       "      <td>0</td>\n",
       "      <td>1</td>\n",
       "      <td>0</td>\n",
       "      <td>0</td>\n",
       "      <td>0</td>\n",
       "      <td>0</td>\n",
       "      <td>1</td>\n",
       "    </tr>\n",
       "    <tr>\n",
       "      <th>7042</th>\n",
       "      <td>Male</td>\n",
       "      <td>0</td>\n",
       "      <td>Yes</td>\n",
       "      <td>Yes</td>\n",
       "      <td>63</td>\n",
       "      <td>No</td>\n",
       "      <td>No phone service</td>\n",
       "      <td>Yes</td>\n",
       "      <td>Yes</td>\n",
       "      <td>Yes</td>\n",
       "      <td>...</td>\n",
       "      <td>1</td>\n",
       "      <td>0</td>\n",
       "      <td>1</td>\n",
       "      <td>0</td>\n",
       "      <td>1</td>\n",
       "      <td>0</td>\n",
       "      <td>0</td>\n",
       "      <td>0</td>\n",
       "      <td>1</td>\n",
       "      <td>0</td>\n",
       "    </tr>\n",
       "  </tbody>\n",
       "</table>\n",
       "<p>7032 rows × 47 columns</p>\n",
       "</div>"
      ],
      "text/plain": [
       "      gender  senior_citizen partner dependents  tenure phone_service  \\\n",
       "0     Female               0     Yes        Yes       9           Yes   \n",
       "1       Male               0      No         No       9           Yes   \n",
       "2       Male               0      No         No       4           Yes   \n",
       "3       Male               1     Yes         No      13           Yes   \n",
       "4     Female               1     Yes         No       3           Yes   \n",
       "...      ...             ...     ...        ...     ...           ...   \n",
       "7038  Female               0      No         No      13           Yes   \n",
       "7039    Male               0     Yes         No      22           Yes   \n",
       "7040    Male               0      No         No       2           Yes   \n",
       "7041    Male               0     Yes        Yes      67           Yes   \n",
       "7042    Male               0     Yes        Yes      63            No   \n",
       "\n",
       "        multiple_lines online_security online_backup device_protection  ...  \\\n",
       "0                   No              No           Yes                No  ...   \n",
       "1                  Yes              No            No                No  ...   \n",
       "2                   No              No            No               Yes  ...   \n",
       "3                   No              No           Yes               Yes  ...   \n",
       "4                   No              No            No                No  ...   \n",
       "...                ...             ...           ...               ...  ...   \n",
       "7038                No             Yes            No                No  ...   \n",
       "7039               Yes              No            No                No  ...   \n",
       "7040                No              No           Yes                No  ...   \n",
       "7041                No             Yes            No               Yes  ...   \n",
       "7042  No phone service             Yes           Yes               Yes  ...   \n",
       "\n",
       "     streaming_tv_Yes streaming_movies_No internet service  \\\n",
       "0                   1                                    0   \n",
       "1                   0                                    0   \n",
       "2                   0                                    0   \n",
       "3                   1                                    0   \n",
       "4                   1                                    0   \n",
       "...               ...                                  ...   \n",
       "7038                0                                    0   \n",
       "7039                0                                    0   \n",
       "7040                0                                    0   \n",
       "7041                0                                    0   \n",
       "7042                1                                    0   \n",
       "\n",
       "     streaming_movies_Yes contract_type_One year  contract_type_Two year  \\\n",
       "0                       0                      1                       0   \n",
       "1                       1                      0                       0   \n",
       "2                       0                      0                       0   \n",
       "3                       1                      0                       0   \n",
       "4                       0                      0                       0   \n",
       "...                   ...                    ...                     ...   \n",
       "7038                    0                      1                       0   \n",
       "7039                    1                      0                       0   \n",
       "7040                    0                      0                       0   \n",
       "7041                    1                      0                       1   \n",
       "7042                    1                      0                       1   \n",
       "\n",
       "      internet_service_type_Fiber optic internet_service_type_None  \\\n",
       "0                                     0                          0   \n",
       "1                                     0                          0   \n",
       "2                                     1                          0   \n",
       "3                                     1                          0   \n",
       "4                                     1                          0   \n",
       "...                                 ...                        ...   \n",
       "7038                                  0                          0   \n",
       "7039                                  1                          0   \n",
       "7040                                  0                          0   \n",
       "7041                                  0                          0   \n",
       "7042                                  0                          0   \n",
       "\n",
       "     payment_type_Credit card (automatic) payment_type_Electronic check  \\\n",
       "0                                       0                             0   \n",
       "1                                       0                             0   \n",
       "2                                       0                             1   \n",
       "3                                       0                             1   \n",
       "4                                       0                             0   \n",
       "...                                   ...                           ...   \n",
       "7038                                    0                             0   \n",
       "7039                                    0                             1   \n",
       "7040                                    0                             0   \n",
       "7041                                    0                             0   \n",
       "7042                                    0                             1   \n",
       "\n",
       "     payment_type_Mailed check  \n",
       "0                            1  \n",
       "1                            1  \n",
       "2                            0  \n",
       "3                            0  \n",
       "4                            1  \n",
       "...                        ...  \n",
       "7038                         1  \n",
       "7039                         0  \n",
       "7040                         1  \n",
       "7041                         1  \n",
       "7042                         0  \n",
       "\n",
       "[7032 rows x 47 columns]"
      ]
     },
     "execution_count": 24,
     "metadata": {},
     "output_type": "execute_result"
    }
   ],
   "source": [
    "df"
   ]
  },
  {
   "cell_type": "markdown",
   "id": "e8c1c6bf",
   "metadata": {},
   "source": [
    "## Explore the Train Dataset"
   ]
  },
  {
   "cell_type": "markdown",
   "id": "49a3e3a0",
   "metadata": {},
   "source": [
    "### Questions that you want to answer:\n",
    "\n",
    "1. Are customers with Fiber internet has different churn rate compare to customers with DSL?\n",
    "\n",
    "2. Are customers who pay manually more likely to churn than customers who pay automatically?\n",
    "\n",
    "3. Do customers who churn have a higher average monthly spend than those who don't?"
   ]
  },
  {
   "cell_type": "code",
   "execution_count": 26,
   "id": "309c5fc6",
   "metadata": {},
   "outputs": [],
   "source": [
    "train, test = train_test_split(df, train_size=0.8, random_state=1349, stratify=df.churn)\n",
    "# 70/30 train validate split\n",
    "train, validate = train_test_split(train, train_size=0.7, random_state=1349, stratify=train.churn)"
   ]
  },
  {
   "cell_type": "code",
   "execution_count": 28,
   "id": "ceb4cc5b",
   "metadata": {},
   "outputs": [
    {
     "name": "stdout",
     "output_type": "stream",
     "text": [
      "(3937, 47)\n",
      "(1407, 47)\n",
      "(1688, 47)\n"
     ]
    }
   ],
   "source": [
    "print(train.shape)\n",
    "print(test.shape)\n",
    "print(validate.shape)"
   ]
  },
  {
   "cell_type": "code",
   "execution_count": 38,
   "id": "3106fdc2",
   "metadata": {},
   "outputs": [],
   "source": [
    "# Assuming a confidence level of 95% \n",
    "alpha = 0.05"
   ]
  },
  {
   "cell_type": "markdown",
   "id": "a4c1a26a",
   "metadata": {},
   "source": [
    "\n",
    "**1. Are customers with Fiber internet has different churn rate compare to customers with DSL?**\n"
   ]
  },
  {
   "cell_type": "code",
   "execution_count": 60,
   "id": "57aadb4f",
   "metadata": {},
   "outputs": [
    {
     "data": {
      "text/html": [
       "<div>\n",
       "<style scoped>\n",
       "    .dataframe tbody tr th:only-of-type {\n",
       "        vertical-align: middle;\n",
       "    }\n",
       "\n",
       "    .dataframe tbody tr th {\n",
       "        vertical-align: top;\n",
       "    }\n",
       "\n",
       "    .dataframe thead th {\n",
       "        text-align: right;\n",
       "    }\n",
       "</style>\n",
       "<table border=\"1\" class=\"dataframe\">\n",
       "  <thead>\n",
       "    <tr style=\"text-align: right;\">\n",
       "      <th>churn</th>\n",
       "      <th>No</th>\n",
       "      <th>Yes</th>\n",
       "    </tr>\n",
       "    <tr>\n",
       "      <th>internet_service_type</th>\n",
       "      <th></th>\n",
       "      <th></th>\n",
       "    </tr>\n",
       "  </thead>\n",
       "  <tbody>\n",
       "    <tr>\n",
       "      <th>DSL</th>\n",
       "      <td>1114</td>\n",
       "      <td>262</td>\n",
       "    </tr>\n",
       "    <tr>\n",
       "      <th>Fiber optic</th>\n",
       "      <td>1007</td>\n",
       "      <td>724</td>\n",
       "    </tr>\n",
       "    <tr>\n",
       "      <th>None</th>\n",
       "      <td>770</td>\n",
       "      <td>60</td>\n",
       "    </tr>\n",
       "  </tbody>\n",
       "</table>\n",
       "</div>"
      ],
      "text/plain": [
       "churn                    No  Yes\n",
       "internet_service_type           \n",
       "DSL                    1114  262\n",
       "Fiber optic            1007  724\n",
       "None                    770   60"
      ]
     },
     "execution_count": 60,
     "metadata": {},
     "output_type": "execute_result"
    }
   ],
   "source": [
    "#train.crosstab(x = \"internet_service_type\", y ='churn')\n",
    "\n",
    "pd.crosstab(train.internet_service_type, train.churn)\n",
    "\n",
    "#internet_service = pd.crosstab(train.internet_service_type, train.churn, margins=True).reset_index()"
   ]
  },
  {
   "cell_type": "code",
   "execution_count": null,
   "id": "cc4537a1",
   "metadata": {},
   "outputs": [],
   "source": [
    "#H0: DSL churn rate == Fiber internet churn rate\n",
    "#H1: DSL churn rate != Fiber internet churn rate  DSL churn rate"
   ]
  },
  {
   "cell_type": "code",
   "execution_count": 103,
   "id": "2392a0af",
   "metadata": {},
   "outputs": [],
   "source": [
    "dsl_churn = train[train.internet_service_type == 'DSL'].churn_encoded\n",
    "\n",
    "fiber_churn = train[train.internet_service_type == 'Fiber optic'].churn_encoded"
   ]
  },
  {
   "cell_type": "code",
   "execution_count": 63,
   "id": "0abccc6c",
   "metadata": {},
   "outputs": [
    {
     "data": {
      "text/plain": [
       "(13.968838676133931, 4.723757615226429e-43)"
      ]
     },
     "execution_count": 63,
     "metadata": {},
     "output_type": "execute_result"
    }
   ],
   "source": [
    "t, p = stats.ttest_ind(fiber_churn, dsl_churn)\n",
    "t, p"
   ]
  },
  {
   "cell_type": "code",
   "execution_count": 66,
   "id": "772d66c1",
   "metadata": {},
   "outputs": [
    {
     "name": "stdout",
     "output_type": "stream",
     "text": [
      "We reject the null hypothesis that DSL churn rate == Fiber internet churn rate\n"
     ]
    }
   ],
   "source": [
    "if (p < alpha) & (t > 0):\n",
    "    print(\"We reject the null hypothesis that DSL churn rate == Fiber internet churn rate\")\n",
    "else:\n",
    "    print(\"We fail to reject the null hypothesis\")"
   ]
  },
  {
   "cell_type": "markdown",
   "id": "233a9a57",
   "metadata": {},
   "source": [
    "**2. Are customers who pay manually more likely to churn than customers who pay automatically?**"
   ]
  },
  {
   "cell_type": "code",
   "execution_count": 100,
   "id": "7b224d9d",
   "metadata": {},
   "outputs": [],
   "source": [
    "#H0: Churn rate: customers who pay manually  <= customers who pay automatically\n",
    "#H1: Churn rate: customers who pay manually > customers who pay automatically"
   ]
  },
  {
   "cell_type": "code",
   "execution_count": 94,
   "id": "bea4a981",
   "metadata": {},
   "outputs": [
    {
     "data": {
      "text/plain": [
       "Index(['gender', 'senior_citizen', 'partner', 'dependents', 'tenure',\n",
       "       'phone_service', 'multiple_lines', 'online_security', 'online_backup',\n",
       "       'device_protection', 'tech_support', 'streaming_tv', 'streaming_movies',\n",
       "       'paperless_billing', 'monthly_charges', 'total_charges', 'churn',\n",
       "       'internet_service_type', 'contract_type', 'payment_type',\n",
       "       'gender_encoded', 'partner_encoded', 'dependents_encoded',\n",
       "       'phone_service_encoded', 'paperless_billing_encoded', 'churn_encoded',\n",
       "       'multiple_lines_No phone service', 'multiple_lines_Yes',\n",
       "       'online_security_No internet service', 'online_security_Yes',\n",
       "       'online_backup_No internet service', 'online_backup_Yes',\n",
       "       'device_protection_No internet service', 'device_protection_Yes',\n",
       "       'tech_support_No internet service', 'tech_support_Yes',\n",
       "       'streaming_tv_No internet service', 'streaming_tv_Yes',\n",
       "       'streaming_movies_No internet service', 'streaming_movies_Yes',\n",
       "       'contract_type_One year', 'contract_type_Two year',\n",
       "       'internet_service_type_Fiber optic', 'internet_service_type_None',\n",
       "       'payment_type_Credit card (automatic)', 'payment_type_Electronic check',\n",
       "       'payment_type_Mailed check', 'autopay', 'manual'],\n",
       "      dtype='object')"
      ]
     },
     "execution_count": 94,
     "metadata": {},
     "output_type": "execute_result"
    }
   ],
   "source": [
    "train.columns"
   ]
  },
  {
   "cell_type": "code",
   "execution_count": 95,
   "id": "b794ed01",
   "metadata": {},
   "outputs": [
    {
     "data": {
      "text/html": [
       "<div>\n",
       "<style scoped>\n",
       "    .dataframe tbody tr th:only-of-type {\n",
       "        vertical-align: middle;\n",
       "    }\n",
       "\n",
       "    .dataframe tbody tr th {\n",
       "        vertical-align: top;\n",
       "    }\n",
       "\n",
       "    .dataframe thead th {\n",
       "        text-align: right;\n",
       "    }\n",
       "</style>\n",
       "<table border=\"1\" class=\"dataframe\">\n",
       "  <thead>\n",
       "    <tr style=\"text-align: right;\">\n",
       "      <th>churn</th>\n",
       "      <th>No</th>\n",
       "      <th>Yes</th>\n",
       "    </tr>\n",
       "    <tr>\n",
       "      <th>payment_type</th>\n",
       "      <th></th>\n",
       "      <th></th>\n",
       "    </tr>\n",
       "  </thead>\n",
       "  <tbody>\n",
       "    <tr>\n",
       "      <th>Bank transfer (automatic)</th>\n",
       "      <td>711</td>\n",
       "      <td>148</td>\n",
       "    </tr>\n",
       "    <tr>\n",
       "      <th>Credit card (automatic)</th>\n",
       "      <td>727</td>\n",
       "      <td>131</td>\n",
       "    </tr>\n",
       "    <tr>\n",
       "      <th>Electronic check</th>\n",
       "      <td>706</td>\n",
       "      <td>591</td>\n",
       "    </tr>\n",
       "    <tr>\n",
       "      <th>Mailed check</th>\n",
       "      <td>747</td>\n",
       "      <td>176</td>\n",
       "    </tr>\n",
       "  </tbody>\n",
       "</table>\n",
       "</div>"
      ],
      "text/plain": [
       "churn                       No  Yes\n",
       "payment_type                       \n",
       "Bank transfer (automatic)  711  148\n",
       "Credit card (automatic)    727  131\n",
       "Electronic check           706  591\n",
       "Mailed check               747  176"
      ]
     },
     "execution_count": 95,
     "metadata": {},
     "output_type": "execute_result"
    }
   ],
   "source": [
    "pd.crosstab(train.payment_type, train.churn)"
   ]
  },
  {
   "cell_type": "code",
   "execution_count": 96,
   "id": "74412b16",
   "metadata": {},
   "outputs": [],
   "source": [
    "train['autopay'] = pd.DataFrame(train['payment_type'].str.contains('auto'))\n",
    "train['manual']  = pd.DataFrame(train['payment_type'].str.contains('check'))"
   ]
  },
  {
   "cell_type": "code",
   "execution_count": 97,
   "id": "6830bf3f",
   "metadata": {},
   "outputs": [],
   "source": [
    "autopay_churn = train[train['autopay']].churn_encoded\n",
    "\n",
    "manual_churn = train[train['manual']].churn_encoded"
   ]
  },
  {
   "cell_type": "code",
   "execution_count": 102,
   "id": "2fa19c0f",
   "metadata": {},
   "outputs": [
    {
     "data": {
      "text/plain": [
       "(13.169448889001739, 4.302822709861193e-39)"
      ]
     },
     "execution_count": 102,
     "metadata": {},
     "output_type": "execute_result"
    }
   ],
   "source": [
    "t, p = stats.ttest_ind(manual_churn, autopay_churn)\n",
    "t, p/2"
   ]
  },
  {
   "cell_type": "code",
   "execution_count": 101,
   "id": "9ec7834b",
   "metadata": {},
   "outputs": [
    {
     "name": "stdout",
     "output_type": "stream",
     "text": [
      "We reject the null hypothesis\n"
     ]
    }
   ],
   "source": [
    "if (p/2 < alpha) & (t > 0):\n",
    "    print(\"We reject the null hypothesis\")\n",
    "else:\n",
    "    print(\"We fail to reject the null hypothesis\")"
   ]
  },
  {
   "cell_type": "markdown",
   "id": "76825377",
   "metadata": {},
   "source": [
    "**3. Do customers who churn have a higher average monthly spend than those who don't?**"
   ]
  },
  {
   "cell_type": "code",
   "execution_count": 104,
   "id": "aff6251e",
   "metadata": {},
   "outputs": [
    {
     "data": {
      "text/plain": [
       "count    3937.000000\n",
       "mean       64.709398\n",
       "std        29.925892\n",
       "min        18.250000\n",
       "25%        38.500000\n",
       "50%        70.150000\n",
       "75%        89.900000\n",
       "max       118.650000\n",
       "Name: monthly_charges, dtype: float64"
      ]
     },
     "execution_count": 104,
     "metadata": {},
     "output_type": "execute_result"
    }
   ],
   "source": [
    "train.monthly_charges.describe()"
   ]
  },
  {
   "cell_type": "code",
   "execution_count": 105,
   "id": "7b863797",
   "metadata": {},
   "outputs": [
    {
     "data": {
      "text/plain": [
       "<AxesSubplot:xlabel='churn', ylabel='monthly_charges'>"
      ]
     },
     "execution_count": 105,
     "metadata": {},
     "output_type": "execute_result"
    },
    {
     "data": {
      "image/png": "[encoded data removed]",
      "text/plain": [
       "<Figure size 432x288 with 1 Axes>"
      ]
     },
     "metadata": {
      "needs_background": "light"
     },
     "output_type": "display_data"
    }
   ],
   "source": [
    "mean = train.sepal_length.mean()\n",
    "plt.axhline(mean, ls='--', color='grey')\n",
    "plt.title(\"sepal length mean vs species\")\n",
    "sns.barplot(x = \"churn\", y ='monthly_charges', data = train)"
   ]
  },
  {
   "cell_type": "code",
   "execution_count": 124,
   "id": "14062b35",
   "metadata": {},
   "outputs": [],
   "source": [
    "monthly_charges_bins = np.linspace(train['monthly_charges'].min(),train['monthly_charges'].max(),5)\n",
    "monthly_charges_bins\n",
    "\n",
    "bins = np.array([0, 30, 60, 90,120])\n",
    "labels = [\"low\", 'm', 'mid','high']\n",
    "\n",
    "train[\"monthly_charges_level\"] = pd.cut(train['monthly_charges'], bins=bins, labels=labels, include_lowest=True)\n"
   ]
  },
  {
   "cell_type": "code",
   "execution_count": 125,
   "id": "7e2d42c3",
   "metadata": {},
   "outputs": [
    {
     "data": {
      "text/plain": [
       "monthly_charges_level\n",
       "mid                      1310\n",
       "high                      973\n",
       "low                       906\n",
       "m                         748\n",
       "dtype: int64"
      ]
     },
     "execution_count": 125,
     "metadata": {},
     "output_type": "execute_result"
    }
   ],
   "source": [
    "train[[\"monthly_charges_level\"]].value_counts()"
   ]
  },
  {
   "cell_type": "code",
   "execution_count": 127,
   "id": "2d09a177",
   "metadata": {},
   "outputs": [
    {
     "data": {
      "text/html": [
       "<div>\n",
       "<style scoped>\n",
       "    .dataframe tbody tr th:only-of-type {\n",
       "        vertical-align: middle;\n",
       "    }\n",
       "\n",
       "    .dataframe tbody tr th {\n",
       "        vertical-align: top;\n",
       "    }\n",
       "\n",
       "    .dataframe thead th {\n",
       "        text-align: right;\n",
       "    }\n",
       "</style>\n",
       "<table border=\"1\" class=\"dataframe\">\n",
       "  <thead>\n",
       "    <tr style=\"text-align: right;\">\n",
       "      <th>churn</th>\n",
       "      <th>No</th>\n",
       "      <th>Yes</th>\n",
       "    </tr>\n",
       "    <tr>\n",
       "      <th>monthly_charges_level</th>\n",
       "      <th></th>\n",
       "      <th></th>\n",
       "    </tr>\n",
       "  </thead>\n",
       "  <tbody>\n",
       "    <tr>\n",
       "      <th>low</th>\n",
       "      <td>817</td>\n",
       "      <td>89</td>\n",
       "    </tr>\n",
       "    <tr>\n",
       "      <th>m</th>\n",
       "      <td>555</td>\n",
       "      <td>193</td>\n",
       "    </tr>\n",
       "    <tr>\n",
       "      <th>mid</th>\n",
       "      <td>866</td>\n",
       "      <td>444</td>\n",
       "    </tr>\n",
       "    <tr>\n",
       "      <th>high</th>\n",
       "      <td>653</td>\n",
       "      <td>320</td>\n",
       "    </tr>\n",
       "  </tbody>\n",
       "</table>\n",
       "</div>"
      ],
      "text/plain": [
       "churn                   No  Yes\n",
       "monthly_charges_level          \n",
       "low                    817   89\n",
       "m                      555  193\n",
       "mid                    866  444\n",
       "high                   653  320"
      ]
     },
     "execution_count": 127,
     "metadata": {},
     "output_type": "execute_result"
    }
   ],
   "source": [
    "pd.crosstab(train.monthly_charges_level, train.churn)"
   ]
  },
  {
   "cell_type": "code",
   "execution_count": 131,
   "id": "3084c719",
   "metadata": {},
   "outputs": [
    {
     "data": {
      "text/plain": [
       "count    3937.000000\n",
       "mean        0.265685\n",
       "std         0.441753\n",
       "min         0.000000\n",
       "25%         0.000000\n",
       "50%         0.000000\n",
       "75%         1.000000\n",
       "max         1.000000\n",
       "Name: churn_encoded, dtype: float64"
      ]
     },
     "execution_count": 131,
     "metadata": {},
     "output_type": "execute_result"
    }
   ],
   "source": [
    "train['churn_encoded'].describe()"
   ]
  },
  {
   "cell_type": "code",
   "execution_count": 137,
   "id": "a081061d",
   "metadata": {},
   "outputs": [
    {
     "data": {
      "text/plain": [
       "<AxesSubplot:xlabel='monthly_charges_level', ylabel='churn_encoded'>"
      ]
     },
     "execution_count": 137,
     "metadata": {},
     "output_type": "execute_result"
    },
    {
     "data": {
      "image/png": "[encoded data removed]",
      "text/plain": [
       "<Figure size 432x288 with 1 Axes>"
      ]
     },
     "metadata": {
      "needs_background": "light"
     },
     "output_type": "display_data"
    }
   ],
   "source": [
    "sns.barplot(x = \"monthly_charges_level\", y ='churn_encoded', data = train)"
   ]
  },
  {
   "cell_type": "code",
   "execution_count": 145,
   "id": "d3f0fa1e",
   "metadata": {},
   "outputs": [
    {
     "data": {
      "text/plain": [
       "<AxesSubplot:>"
      ]
     },
     "execution_count": 145,
     "metadata": {},
     "output_type": "execute_result"
    },
    {
     "data": {
      "image/png": "[encoded data removed]",
      "text/plain": [
       "<Figure size 432x288 with 1 Axes>"
      ]
     },
     "metadata": {
      "needs_background": "light"
     },
     "output_type": "display_data"
    }
   ],
   "source": [
    "train.monthly_charges_level.hist()"
   ]
  },
  {
   "cell_type": "code",
   "execution_count": 144,
   "id": "cb233593",
   "metadata": {},
   "outputs": [
    {
     "ename": "KeyError",
     "evalue": "\"None of [Index(['low', 'low', 'm', 'low', 'low', 'high', 'high', 'high', 'high', 'm',\\n       ...\\n       'low', 'low', 'high', 'low', 'mid', 'mid', 'm', 'mid', 'mid', 'mid'],\\n      dtype='object', length=3937)] are in the [columns]\"",
     "output_type": "error",
     "traceback": [
      "\u001b[0;31m---------------------------------------------------------------------------\u001b[0m",
      "\u001b[0;31mKeyError\u001b[0m                                  Traceback (most recent call last)",
      "\u001b[0;32m/var/folders/qc/j1gjctrd2wn6_hlqm7vyzbgm0000gn/T/ipykernel_9475/2241467653.py\u001b[0m in \u001b[0;36m<module>\u001b[0;34m\u001b[0m\n\u001b[0;32m----> 1\u001b[0;31m \u001b[0mmonthly_pay_churn\u001b[0m \u001b[0;34m=\u001b[0m \u001b[0mtrain\u001b[0m\u001b[0;34m[\u001b[0m\u001b[0mtrain\u001b[0m\u001b[0;34m[\u001b[0m\u001b[0;34m'monthly_charges_level'\u001b[0m\u001b[0;34m]\u001b[0m\u001b[0;34m]\u001b[0m\u001b[0;34m.\u001b[0m\u001b[0mchurn_encoded\u001b[0m\u001b[0;34m\u001b[0m\u001b[0;34m\u001b[0m\u001b[0m\n\u001b[0m",
      "\u001b[0;32m~/opt/anaconda3/lib/python3.9/site-packages/pandas/core/frame.py\u001b[0m in \u001b[0;36m__getitem__\u001b[0;34m(self, key)\u001b[0m\n\u001b[1;32m   3462\u001b[0m             \u001b[0;32mif\u001b[0m \u001b[0mis_iterator\u001b[0m\u001b[0;34m(\u001b[0m\u001b[0mkey\u001b[0m\u001b[0;34m)\u001b[0m\u001b[0;34m:\u001b[0m\u001b[0;34m\u001b[0m\u001b[0;34m\u001b[0m\u001b[0m\n\u001b[1;32m   3463\u001b[0m                 \u001b[0mkey\u001b[0m \u001b[0;34m=\u001b[0m \u001b[0mlist\u001b[0m\u001b[0;34m(\u001b[0m\u001b[0mkey\u001b[0m\u001b[0;34m)\u001b[0m\u001b[0;34m\u001b[0m\u001b[0;34m\u001b[0m\u001b[0m\n\u001b[0;32m-> 3464\u001b[0;31m             \u001b[0mindexer\u001b[0m \u001b[0;34m=\u001b[0m \u001b[0mself\u001b[0m\u001b[0;34m.\u001b[0m\u001b[0mloc\u001b[0m\u001b[0;34m.\u001b[0m\u001b[0m_get_listlike_indexer\u001b[0m\u001b[0;34m(\u001b[0m\u001b[0mkey\u001b[0m\u001b[0;34m,\u001b[0m \u001b[0maxis\u001b[0m\u001b[0;34m=\u001b[0m\u001b[0;36m1\u001b[0m\u001b[0;34m)\u001b[0m\u001b[0;34m[\u001b[0m\u001b[0;36m1\u001b[0m\u001b[0;34m]\u001b[0m\u001b[0;34m\u001b[0m\u001b[0;34m\u001b[0m\u001b[0m\n\u001b[0m\u001b[1;32m   3465\u001b[0m \u001b[0;34m\u001b[0m\u001b[0m\n\u001b[1;32m   3466\u001b[0m         \u001b[0;31m# take() does not accept boolean indexers\u001b[0m\u001b[0;34m\u001b[0m\u001b[0;34m\u001b[0m\u001b[0m\n",
      "\u001b[0;32m~/opt/anaconda3/lib/python3.9/site-packages/pandas/core/indexing.py\u001b[0m in \u001b[0;36m_get_listlike_indexer\u001b[0;34m(self, key, axis)\u001b[0m\n\u001b[1;32m   1312\u001b[0m             \u001b[0mkeyarr\u001b[0m\u001b[0;34m,\u001b[0m \u001b[0mindexer\u001b[0m\u001b[0;34m,\u001b[0m \u001b[0mnew_indexer\u001b[0m \u001b[0;34m=\u001b[0m \u001b[0max\u001b[0m\u001b[0;34m.\u001b[0m\u001b[0m_reindex_non_unique\u001b[0m\u001b[0;34m(\u001b[0m\u001b[0mkeyarr\u001b[0m\u001b[0;34m)\u001b[0m\u001b[0;34m\u001b[0m\u001b[0;34m\u001b[0m\u001b[0m\n\u001b[1;32m   1313\u001b[0m \u001b[0;34m\u001b[0m\u001b[0m\n\u001b[0;32m-> 1314\u001b[0;31m         \u001b[0mself\u001b[0m\u001b[0;34m.\u001b[0m\u001b[0m_validate_read_indexer\u001b[0m\u001b[0;34m(\u001b[0m\u001b[0mkeyarr\u001b[0m\u001b[0;34m,\u001b[0m \u001b[0mindexer\u001b[0m\u001b[0;34m,\u001b[0m \u001b[0maxis\u001b[0m\u001b[0;34m)\u001b[0m\u001b[0;34m\u001b[0m\u001b[0;34m\u001b[0m\u001b[0m\n\u001b[0m\u001b[1;32m   1315\u001b[0m \u001b[0;34m\u001b[0m\u001b[0m\n\u001b[1;32m   1316\u001b[0m         if needs_i8_conversion(ax.dtype) or isinstance(\n",
      "\u001b[0;32m~/opt/anaconda3/lib/python3.9/site-packages/pandas/core/indexing.py\u001b[0m in \u001b[0;36m_validate_read_indexer\u001b[0;34m(self, key, indexer, axis)\u001b[0m\n\u001b[1;32m   1372\u001b[0m                 \u001b[0;32mif\u001b[0m \u001b[0muse_interval_msg\u001b[0m\u001b[0;34m:\u001b[0m\u001b[0;34m\u001b[0m\u001b[0;34m\u001b[0m\u001b[0m\n\u001b[1;32m   1373\u001b[0m                     \u001b[0mkey\u001b[0m \u001b[0;34m=\u001b[0m \u001b[0mlist\u001b[0m\u001b[0;34m(\u001b[0m\u001b[0mkey\u001b[0m\u001b[0;34m)\u001b[0m\u001b[0;34m\u001b[0m\u001b[0;34m\u001b[0m\u001b[0m\n\u001b[0;32m-> 1374\u001b[0;31m                 \u001b[0;32mraise\u001b[0m \u001b[0mKeyError\u001b[0m\u001b[0;34m(\u001b[0m\u001b[0;34mf\"None of [{key}] are in the [{axis_name}]\"\u001b[0m\u001b[0;34m)\u001b[0m\u001b[0;34m\u001b[0m\u001b[0;34m\u001b[0m\u001b[0m\n\u001b[0m\u001b[1;32m   1375\u001b[0m \u001b[0;34m\u001b[0m\u001b[0m\n\u001b[1;32m   1376\u001b[0m             \u001b[0mnot_found\u001b[0m \u001b[0;34m=\u001b[0m \u001b[0mlist\u001b[0m\u001b[0;34m(\u001b[0m\u001b[0mensure_index\u001b[0m\u001b[0;34m(\u001b[0m\u001b[0mkey\u001b[0m\u001b[0;34m)\u001b[0m\u001b[0;34m[\u001b[0m\u001b[0mmissing_mask\u001b[0m\u001b[0;34m.\u001b[0m\u001b[0mnonzero\u001b[0m\u001b[0;34m(\u001b[0m\u001b[0;34m)\u001b[0m\u001b[0;34m[\u001b[0m\u001b[0;36m0\u001b[0m\u001b[0;34m]\u001b[0m\u001b[0;34m]\u001b[0m\u001b[0;34m.\u001b[0m\u001b[0munique\u001b[0m\u001b[0;34m(\u001b[0m\u001b[0;34m)\u001b[0m\u001b[0;34m)\u001b[0m\u001b[0;34m\u001b[0m\u001b[0;34m\u001b[0m\u001b[0m\n",
      "\u001b[0;31mKeyError\u001b[0m: \"None of [Index(['low', 'low', 'm', 'low', 'low', 'high', 'high', 'high', 'high', 'm',\\n       ...\\n       'low', 'low', 'high', 'low', 'mid', 'mid', 'm', 'mid', 'mid', 'mid'],\\n      dtype='object', length=3937)] are in the [columns]\""
     ]
    }
   ],
   "source": [
    "monthly_pay_churn = train[train['monthly_charges_level']].churn_encoded"
   ]
  },
  {
   "cell_type": "code",
   "execution_count": 149,
   "id": "453b2cdb",
   "metadata": {},
   "outputs": [
    {
     "data": {
      "text/plain": [
       "<AxesSubplot:xlabel='monthly_charges_level', ylabel='Count'>"
      ]
     },
     "execution_count": 149,
     "metadata": {},
     "output_type": "execute_result"
    },
    {
     "data": {
      "image/png": "[encoded data removed]",
      "text/plain": [
       "<Figure size 432x288 with 1 Axes>"
      ]
     },
     "metadata": {
      "needs_background": "light"
     },
     "output_type": "display_data"
    }
   ],
   "source": [
    "sns.histplot(data=train, x=\"monthly_charges_level\", hue=\"churn\",multiple=\"stack\")"
   ]
  },
  {
   "cell_type": "code",
   "execution_count": 108,
   "id": "25ee4a1a",
   "metadata": {},
   "outputs": [
    {
     "data": {
      "text/plain": [
       "<AxesSubplot:xlabel='monthly_charges', ylabel='total_charges'>"
      ]
     },
     "execution_count": 108,
     "metadata": {},
     "output_type": "execute_result"
    },
    {
     "data": {
      "image/png": "[encoded data removed]",
      "text/plain": [
       "<Figure size 432x288 with 1 Axes>"
      ]
     },
     "metadata": {
      "needs_background": "light"
     },
     "output_type": "display_data"
    }
   ],
   "source": [
    "# Hue can hold a categorical or a continuous (recommend for categorical)\n",
    "sns.scatterplot(x='monthly_charges', y='total_charges', hue ='churn',data=train)"
   ]
  },
  {
   "cell_type": "code",
   "execution_count": 110,
   "id": "148bad98",
   "metadata": {},
   "outputs": [
    {
     "data": {
      "text/plain": [
       "<seaborn.axisgrid.FacetGrid at 0x7f8bda685af0>"
      ]
     },
     "execution_count": 110,
     "metadata": {},
     "output_type": "execute_result"
    },
    {
     "data": {
      "image/png": "[encoded data removed]",
      "text/plain": [
       "<Figure size 720x360 with 2 Axes>"
      ]
     },
     "metadata": {
      "needs_background": "light"
     },
     "output_type": "display_data"
    }
   ],
   "source": [
    "# Hue can hold a categorical or a continuous (recommend for categorical)\n",
    "sns.relplot(x='monthly_charges', y='total_charges', col ='churn',data=train)"
   ]
  },
  {
   "cell_type": "code",
   "execution_count": null,
   "id": "179542f8",
   "metadata": {},
   "outputs": [],
   "source": []
  }
 ],
 "metadata": {
  "kernelspec": {
   "display_name": "Python 3 (ipykernel)",
   "language": "python",
   "name": "python3"
  },
  "language_info": {
   "codemirror_mode": {
    "name": "ipython",
    "version": 3
   },
   "file_extension": ".py",
   "mimetype": "text/x-python",
   "name": "python",
   "nbconvert_exporter": "python",
   "pygments_lexer": "ipython3",
   "version": "3.9.7"
  }
 },
 "nbformat": 4,
 "nbformat_minor": 5
}
